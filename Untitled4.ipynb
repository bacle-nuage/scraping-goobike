{
  "nbformat": 4,
  "nbformat_minor": 0,
  "metadata": {
    "colab": {
      "name": "Untitled4.ipynb",
      "provenance": [],
      "authorship_tag": "ABX9TyMsAfKR5pYwrK2HbkFu5I8I",
      "include_colab_link": true
    },
    "kernelspec": {
      "name": "python3",
      "display_name": "Python 3"
    }
  },
  "cells": [
    {
      "cell_type": "markdown",
      "metadata": {
        "id": "view-in-github",
        "colab_type": "text"
      },
      "source": [
        "<a href=\"https://colab.research.google.com/github/you0229/scraping-goobike/blob/master/Untitled4.ipynb\" target=\"_parent\"><img src=\"https://colab.research.google.com/assets/colab-badge.svg\" alt=\"Open In Colab\"/></a>"
      ]
    },
    {
      "cell_type": "code",
      "metadata": {
        "id": "S_P5ovJcdW5Y",
        "colab_type": "code",
        "colab": {}
      },
      "source": [
        "#####\n",
        "# library\n",
        "#####\n",
        "import requests\n",
        "from bs4 import BeautifulSoup\n",
        "import json"
      ],
      "execution_count": 0,
      "outputs": []
    },
    {
      "cell_type": "code",
      "metadata": {
        "id": "6xyc99nsMg1A",
        "colab_type": "code",
        "colab": {}
      },
      "source": [
        "#####\n",
        "# cost\n",
        "#####\n",
        "brand = [\n",
        "         'maker-harley_davidson'\n",
        "]\n",
        "car_types = []\n",
        "base_url = 'https://www.goobike.com/'"
      ],
      "execution_count": 0,
      "outputs": []
    },
    {
      "cell_type": "code",
      "metadata": {
        "id": "ganP5SHFnsAX",
        "colab_type": "code",
        "colab": {}
      },
      "source": [
        "#####\n",
        "# Beautiful Soup\n",
        "#####\n",
        "def get_bs(url):\n",
        "    # スクレイピング対象の URL にリクエストを送り HTML を取得する\n",
        "    res = requests.get(request_url)\n",
        "\n",
        "    # レスポンスの HTML から BeautifulSoup オブジェクトを作る\n",
        "    res.encoding = res.apparent_encoding\n",
        "    soup = BeautifulSoup(res.text.encode('utf-8'), 'html.parser')\n",
        "    # print(res.text)\n",
        "\n",
        "    return soup"
      ],
      "execution_count": 0,
      "outputs": []
    },
    {
      "cell_type": "code",
      "metadata": {
        "id": "BcFALQ8XZ1d5",
        "colab_type": "code",
        "colab": {
          "base_uri": "https://localhost:8080/",
          "height": 90
        },
        "outputId": "02444c1f-451f-484c-c661-64226083c8d9"
      },
      "source": [
        "#####\n",
        "# 車種を取得\n",
        "#####\n",
        "for i in brand:\n",
        "  request_url = base_url + i + '/index.html'\n",
        "  print('request_url::' + request_url)\n",
        "\n",
        "  soup = get_bs(request_url)\n",
        "  \n",
        "  # ページに含まれるリンクを全て取得する\n",
        "  # bike_list_selector = '#ex_class_01 > ul > li:nth-child(1) > a'\n",
        "  # links = [url.get('href') for url in soup.find_all(bike_list_selector)]\n",
        "  # print('bike_list_selector::' + bike_list_selector + \\\n",
        "  #       ', find_all::' + json.dumps(soup.find_all(bike_list_selector)) + \\\n",
        "  #       ', html')\n",
        "  # print(soup.title)\n",
        "\n",
        "  topicsindex = soup.find('ul', attrs={'class': 'bike_lists'})\n",
        "  topics = topicsindex.find_all('a')\n",
        "  org_links = [topic.get('href') for topic in topics]\n",
        "  print('org_links::' + json.dumps(org_links))\n",
        "\n",
        "  links = [url.replace('/map', '') for url in org_links]\n",
        "  print('links::' + json.dumps(links))\n",
        "\n",
        "  car_types = links\n"
      ],
      "execution_count": 12,
      "outputs": [
        {
          "output_type": "stream",
          "text": [
            "request_url::https://www.goobike.com/maker-harley_davidson/index.html\n",
            "org_links::[\"/maker-harley_davidson/car-cvo_flhrse5_roadking/map/index.html\", \"/maker-harley_davidson/car-cvo_flhrse6_roadking/map/index.html\", \"/maker-harley_davidson/car-harley_davidson_cvo_flhrse_roadking/map/index.html\", \"/maker-harley_davidson/car-cvo_flhtcu4_factorycustomultraclassicelectraglide/map/index.html\", \"/maker-harley_davidson/car-cvo_flhtcuse5_electraglideultraclassic/map/index.html\", \"/maker-harley_davidson/car-cvo_flhtcuse6_electraglideultraclassic/map/index.html\", \"/maker-harley_davidson/car-cvo_flhtcuse7_electraglideultraclassic/map/index.html\", \"/maker-harley_davidson/car-cvo_flhtcuse8_electraglideultraclassic/map/index.html\", \"/maker-harley_davidson/car-cvo_flhtkse_limited/map/index.html\", \"/maker-harley_davidson/car-cvo_flhxse_streetglide/map/index.html\", \"/maker-harley_davidson/car-cvo_flhxse2_streetglide/map/index.html\", \"/maker-harley_davidson/car-cvo_flhxse3_streetglide/map/index.html\", \"/maker-harley_davidson/car-cvo_softaildeluxe/map/index.html\", \"/maker-harley_davidson/car-cvo_fltruse_roadglideultra/map/index.html\", \"/maker-harley_davidson/car-cvo_fltrxse_roadglidecustom/map/index.html\", \"/maker-harley_davidson/car-cvo_fltrxse2_roadglidecustom/map/index.html\", \"/maker-harley_davidson/car-cvo_fxsbse_breakout/map/index.html\", \"/maker-harley_davidson/car-cvo_fxsbse2_breakout/map/index.html\", \"/maker-harley_davidson/car-cvo_fxse_prostreetbreakout/map/index.html\"]\n",
            "links::[\"/maker-harley_davidson/car-cvo_flhrse5_roadking/index.html\", \"/maker-harley_davidson/car-cvo_flhrse6_roadking/index.html\", \"/maker-harley_davidson/car-harley_davidson_cvo_flhrse_roadking/index.html\", \"/maker-harley_davidson/car-cvo_flhtcu4_factorycustomultraclassicelectraglide/index.html\", \"/maker-harley_davidson/car-cvo_flhtcuse5_electraglideultraclassic/index.html\", \"/maker-harley_davidson/car-cvo_flhtcuse6_electraglideultraclassic/index.html\", \"/maker-harley_davidson/car-cvo_flhtcuse7_electraglideultraclassic/index.html\", \"/maker-harley_davidson/car-cvo_flhtcuse8_electraglideultraclassic/index.html\", \"/maker-harley_davidson/car-cvo_flhtkse_limited/index.html\", \"/maker-harley_davidson/car-cvo_flhxse_streetglide/index.html\", \"/maker-harley_davidson/car-cvo_flhxse2_streetglide/index.html\", \"/maker-harley_davidson/car-cvo_flhxse3_streetglide/index.html\", \"/maker-harley_davidson/car-cvo_softaildeluxe/index.html\", \"/maker-harley_davidson/car-cvo_fltruse_roadglideultra/index.html\", \"/maker-harley_davidson/car-cvo_fltrxse_roadglidecustom/index.html\", \"/maker-harley_davidson/car-cvo_fltrxse2_roadglidecustom/index.html\", \"/maker-harley_davidson/car-cvo_fxsbse_breakout/index.html\", \"/maker-harley_davidson/car-cvo_fxsbse2_breakout/index.html\", \"/maker-harley_davidson/car-cvo_fxse_prostreetbreakout/index.html\"]\n"
          ],
          "name": "stdout"
        }
      ]
    },
    {
      "cell_type": "code",
      "metadata": {
        "id": "-eJWiTngpszd",
        "colab_type": "code",
        "colab": {
          "base_uri": "https://localhost:8080/",
          "height": 444
        },
        "outputId": "5e1a3d1a-78e6-497f-e98a-2dd93c8ebed7"
      },
      "source": [
        "\n",
        "for j in car_types:\n",
        "  request_url = base_url + j\n",
        "  print('request_url::' + request_url)\n",
        "\n",
        "  soup = get_bs(request_url)\n",
        "\n",
        "  summary_lists = soup.find('div', attrs={'class': 'summary_lists'})\n",
        "  # print('summary_lists::' + str(summary_lists))\n",
        "\n",
        "  bike_sec = summary_lists.find('div', attrs={'class': 'bike_sec'})\n",
        "  # print('bike_sec::' + str(bike_sec))\n",
        "\n",
        "  info = []\n",
        "  for b in bike_sec:\n",
        "    print(info)\n",
        "\n",
        "    info = bike_sec.find('div', attrs={'class': 'bike_info'})\n",
        "    d = {\n",
        "        'title': info.find('a', attrs={'class': 'detail_kakaku_link'}).text,\\\n",
        "        'price': info.find('td', attrs={'class':'num_td'}).find('span', attrs={'class': 'num_ff'}).text,\\\n",
        "        'all_price': info.find('span', attrs={'class': 'num_ff total'}).text,\\\n",
        "        'years': '',\\\n",
        "        'mileage': '',\\\n",
        "        'vehicle inspection/insurance': '',\\\n",
        "        'Repair history': '',\\\n",
        "        }\n",
        "    print(d)\n",
        "\n",
        "    info.append(d)\n",
        "\n",
        "    # info.append({\n",
        "                # 'title': info.find('a', attrs={'class': 'detail_kakaku_link'}).text,\\\n",
        "                # 'price': info.find('td', class='num_td').find('span', class='num_ff').text,\\\n",
        "                # 'all_price': info.find('td', class='num_ff total').text,\\\n",
        "                # 'years': '',\\\n",
        "                # 'mileage': '',\\\n",
        "                # 'vehicle inspection/insurance': '',\\\n",
        "                # 'Repair history': '',\\\n",
        "                #  })\n",
        "    # print(info)\n",
        "\n",
        "  # bike_sec = soup.find_all('.bike_sec')\n",
        "\n",
        "  # print('bike_sec::' + json.dumps(bike_sec))"
      ],
      "execution_count": 34,
      "outputs": [
        {
          "output_type": "stream",
          "text": [
            "request_url::https://www.goobike.com//maker-harley_davidson/car-cvo_flhrse5_roadking/index.html\n",
            "[]\n",
            "{'title': 'ＣＶＯ\\u3000ＦＬＨＲＳＥ５\\u3000ロードキング', 'price': '220', 'all_price': '227.8', 'years': '', 'mileage': '', 'vehicle inspection/insurance': '', 'Repair history': ''}\n"
          ],
          "name": "stdout"
        },
        {
          "output_type": "error",
          "ename": "AttributeError",
          "evalue": "ignored",
          "traceback": [
            "\u001b[0;31m---------------------------------------------------------------------------\u001b[0m",
            "\u001b[0;31mAttributeError\u001b[0m                            Traceback (most recent call last)",
            "\u001b[0;32m<ipython-input-34-5c61964be114>\u001b[0m in \u001b[0;36m<module>\u001b[0;34m()\u001b[0m\n\u001b[1;32m     28\u001b[0m     \u001b[0mprint\u001b[0m\u001b[0;34m(\u001b[0m\u001b[0md\u001b[0m\u001b[0;34m)\u001b[0m\u001b[0;34m\u001b[0m\u001b[0;34m\u001b[0m\u001b[0m\n\u001b[1;32m     29\u001b[0m \u001b[0;34m\u001b[0m\u001b[0m\n\u001b[0;32m---> 30\u001b[0;31m     \u001b[0minfo\u001b[0m\u001b[0;34m.\u001b[0m\u001b[0mappend\u001b[0m\u001b[0;34m(\u001b[0m\u001b[0md\u001b[0m\u001b[0;34m)\u001b[0m\u001b[0;34m\u001b[0m\u001b[0;34m\u001b[0m\u001b[0m\n\u001b[0m\u001b[1;32m     31\u001b[0m \u001b[0;34m\u001b[0m\u001b[0m\n\u001b[1;32m     32\u001b[0m     \u001b[0;31m# info.append({\u001b[0m\u001b[0;34m\u001b[0m\u001b[0;34m\u001b[0m\u001b[0;34m\u001b[0m\u001b[0m\n",
            "\u001b[0;32m/usr/local/lib/python3.6/dist-packages/bs4/element.py\u001b[0m in \u001b[0;36mappend\u001b[0;34m(self, tag)\u001b[0m\n\u001b[1;32m    429\u001b[0m     \u001b[0;32mdef\u001b[0m \u001b[0mappend\u001b[0m\u001b[0;34m(\u001b[0m\u001b[0mself\u001b[0m\u001b[0;34m,\u001b[0m \u001b[0mtag\u001b[0m\u001b[0;34m)\u001b[0m\u001b[0;34m:\u001b[0m\u001b[0;34m\u001b[0m\u001b[0;34m\u001b[0m\u001b[0m\n\u001b[1;32m    430\u001b[0m         \u001b[0;34m\"\"\"Appends the given tag to the contents of this tag.\"\"\"\u001b[0m\u001b[0;34m\u001b[0m\u001b[0;34m\u001b[0m\u001b[0m\n\u001b[0;32m--> 431\u001b[0;31m         \u001b[0mself\u001b[0m\u001b[0;34m.\u001b[0m\u001b[0minsert\u001b[0m\u001b[0;34m(\u001b[0m\u001b[0mlen\u001b[0m\u001b[0;34m(\u001b[0m\u001b[0mself\u001b[0m\u001b[0;34m.\u001b[0m\u001b[0mcontents\u001b[0m\u001b[0;34m)\u001b[0m\u001b[0;34m,\u001b[0m \u001b[0mtag\u001b[0m\u001b[0;34m)\u001b[0m\u001b[0;34m\u001b[0m\u001b[0;34m\u001b[0m\u001b[0m\n\u001b[0m\u001b[1;32m    432\u001b[0m \u001b[0;34m\u001b[0m\u001b[0m\n\u001b[1;32m    433\u001b[0m     \u001b[0;32mdef\u001b[0m \u001b[0minsert_before\u001b[0m\u001b[0;34m(\u001b[0m\u001b[0mself\u001b[0m\u001b[0;34m,\u001b[0m \u001b[0mpredecessor\u001b[0m\u001b[0;34m)\u001b[0m\u001b[0;34m:\u001b[0m\u001b[0;34m\u001b[0m\u001b[0;34m\u001b[0m\u001b[0m\n",
            "\u001b[0;32m/usr/local/lib/python3.6/dist-packages/bs4/element.py\u001b[0m in \u001b[0;36minsert\u001b[0;34m(self, position, new_child)\u001b[0m\n\u001b[1;32m    384\u001b[0m             \u001b[0mnew_child\u001b[0m\u001b[0;34m.\u001b[0m\u001b[0mextract\u001b[0m\u001b[0;34m(\u001b[0m\u001b[0;34m)\u001b[0m\u001b[0;34m\u001b[0m\u001b[0;34m\u001b[0m\u001b[0m\n\u001b[1;32m    385\u001b[0m \u001b[0;34m\u001b[0m\u001b[0m\n\u001b[0;32m--> 386\u001b[0;31m         \u001b[0mnew_child\u001b[0m\u001b[0;34m.\u001b[0m\u001b[0mparent\u001b[0m \u001b[0;34m=\u001b[0m \u001b[0mself\u001b[0m\u001b[0;34m\u001b[0m\u001b[0;34m\u001b[0m\u001b[0m\n\u001b[0m\u001b[1;32m    387\u001b[0m         \u001b[0mprevious_child\u001b[0m \u001b[0;34m=\u001b[0m \u001b[0;32mNone\u001b[0m\u001b[0;34m\u001b[0m\u001b[0;34m\u001b[0m\u001b[0m\n\u001b[1;32m    388\u001b[0m         \u001b[0;32mif\u001b[0m \u001b[0mposition\u001b[0m \u001b[0;34m==\u001b[0m \u001b[0;36m0\u001b[0m\u001b[0;34m:\u001b[0m\u001b[0;34m\u001b[0m\u001b[0;34m\u001b[0m\u001b[0m\n",
            "\u001b[0;31mAttributeError\u001b[0m: 'dict' object has no attribute 'parent'"
          ]
        }
      ]
    },
    {
      "cell_type": "code",
      "metadata": {
        "id": "2obcycUK9ozH",
        "colab_type": "code",
        "colab": {}
      },
      "source": [
        ""
      ],
      "execution_count": 0,
      "outputs": []
    }
  ]
}