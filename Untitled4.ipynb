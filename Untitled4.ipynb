{
  "nbformat": 4,
  "nbformat_minor": 0,
  "metadata": {
    "colab": {
      "name": "Untitled4.ipynb",
      "provenance": [],
      "toc_visible": true,
      "include_colab_link": true
    },
    "kernelspec": {
      "name": "python3",
      "display_name": "Python 3"
    }
  },
  "cells": [
    {
      "cell_type": "markdown",
      "metadata": {
        "id": "view-in-github",
        "colab_type": "text"
      },
      "source": [
        "<a href=\"https://colab.research.google.com/github/you0229/scraping-goobike/blob/master/Untitled4.ipynb\" target=\"_parent\"><img src=\"https://colab.research.google.com/assets/colab-badge.svg\" alt=\"Open In Colab\"/></a>"
      ]
    },
    {
      "cell_type": "code",
      "metadata": {
        "id": "S_P5ovJcdW5Y",
        "colab_type": "code",
        "colab": {}
      },
      "source": [
        "#####\n",
        "# library\n",
        "#####\n",
        "import requests\n",
        "from bs4 import BeautifulSoup\n",
        "import json\n",
        "import re"
      ],
      "execution_count": 0,
      "outputs": []
    },
    {
      "cell_type": "code",
      "metadata": {
        "id": "6xyc99nsMg1A",
        "colab_type": "code",
        "colab": {}
      },
      "source": [
        "#####\n",
        "# cost\n",
        "#####\n",
        "brand = [\n",
        "         'maker-harley_davidson'\n",
        "]\n",
        "base_url = 'https://www.goobike.com'"
      ],
      "execution_count": 0,
      "outputs": []
    },
    {
      "cell_type": "code",
      "metadata": {
        "id": "ganP5SHFnsAX",
        "colab_type": "code",
        "colab": {}
      },
      "source": [
        "#####\n",
        "# Functions\n",
        "#####\n",
        "\n",
        "# Beautiful Soup\n",
        "def get_bs(url):\n",
        "    # スクレイピング対象の URL にリクエストを送り HTML を取得する\n",
        "    res = requests.get(request_url)\n",
        "\n",
        "    # レスポンスの HTML から BeautifulSoup オブジェクトを作る\n",
        "    res.encoding = res.apparent_encoding\n",
        "    soup = BeautifulSoup(res.text.encode('utf-8'), 'html.parser')\n",
        "    # print(res.text)\n",
        "\n",
        "    return soup\n",
        "\n",
        "# htmlタグの削除\n",
        "def del_tag(tag, tag_name):\n",
        "  needle = '<'+tag_name+'>(.*?)</'+tag_name+'>'\n",
        "  return re.search(needle, str(tag)).group(1)\n",
        "\n",
        "# 車種の一覧を取得\n",
        "def car_type_list():\n",
        "  for i in brand:\n",
        "    request_url = base_url + '/' + i + '/index.html'\n",
        "    print('request_url::' + request_url)\n",
        "\n",
        "    soup = get_bs(request_url)\n",
        "\n",
        "    topicsindex = soup.find('ul', attrs={'class': 'bike_lists'})\n",
        "    print(topicsindex)\n",
        "    topics = topicsindex.find_all('a')\n",
        "\n",
        "    # topics = [t.find_all('a') for t in soup.find_all('ul', attrs={'class': 'bike_lists'})]\n",
        "\n",
        "    org_links = [topic.get('href') for topic in topics]\n",
        "    print('org_links::' + json.dumps(org_links))\n",
        "\n",
        "    links = [url.replace('/map', '') for url in org_links]\n",
        "    print('links::' + json.dumps(links))\n",
        "\n",
        "    return links"
      ],
      "execution_count": 0,
      "outputs": []
    },
    {
      "cell_type": "code",
      "metadata": {
        "id": "-eJWiTngpszd",
        "colab_type": "code",
        "outputId": "7ee52926-5035-4a81-fddf-c47e68e116f6",
        "colab": {
          "base_uri": "https://localhost:8080/",
          "height": 389
        }
      },
      "source": [
        "car_types = car_type_list()\n",
        "print('cat_types::' + json.dumps(car_types))\n",
        "\n",
        "info = []\n",
        "for j in car_types:\n",
        "  request_url = base_url + '/' + j\n",
        "  print('request_url::' + request_url)\n",
        "\n",
        "  soup = get_bs(request_url)\n",
        "\n",
        "  summary_lists = soup.find('div', attrs={'class': 'summary_lists'})\n",
        "  # print('summary_lists::' + str(summary_lists))\n",
        "\n",
        "  bike_sec = summary_lists.find_all('div', attrs={'class': 'bike_sec'})\n",
        "  # print('bike_sec start')\n",
        "  # print(bike_sec)\n",
        "  # print('bike_sec end')\n",
        "\n",
        "  for b in bike_sec:\n",
        "    # print(info)\n",
        "\n",
        "    bike_info = b.find('div', attrs={'class': 'bike_info'})\n",
        "    clearfix_li = bike_info.find('div', attrs={'class': 'cont01'}).find('ul', attrs={'class': 'clearfix'}).find_all('li')\n",
        "\n",
        "    d = {\n",
        "        'title': bike_info.find('a', attrs={'class': 'detail_kakaku_link'}).text,\\\n",
        "        'price': bike_info.find('td', attrs={'class':'num_td'}).find('span', attrs={'class': 'num_ff'}).text,\\\n",
        "        'all_price': bike_info.find('span', attrs={'class': 'num_ff total'}).text,\\\n",
        "        'years': del_tag(clearfix_li[0].b, 'b'),\\\n",
        "        'mileage': del_tag(clearfix_li[1].b, 'b'),\\\n",
        "        'vehicle inspection/insurance': del_tag(clearfix_li[2].b, 'b'),\\\n",
        "        'Repair history': del_tag(clearfix_li[3].b, 'b'),\\\n",
        "        'URL' : base_url + bike_info.find('a', attrs={'class': 'detail_kakaku_link'}).get('href'),\\\n",
        "        'car_name': re.search('\\/car-(.*?)\\/', str(request_url)).group(1)\n",
        "        }\n",
        "    print('put data::' + str(d))\n",
        "\n",
        "    info.append(d.copy())\n",
        "\n",
        "    del d"
      ],
      "execution_count": 24,
      "outputs": [
        {
          "output_type": "stream",
          "text": [
            "request_url::https://www.goobike.com/maker-harley_davidson/index.html\n",
            "None\n"
          ],
          "name": "stdout"
        },
        {
          "output_type": "error",
          "ename": "AttributeError",
          "evalue": "ignored",
          "traceback": [
            "\u001b[0;31m---------------------------------------------------------------------------\u001b[0m",
            "\u001b[0;31mAttributeError\u001b[0m                            Traceback (most recent call last)",
            "\u001b[0;32m<ipython-input-24-5a5629d857fe>\u001b[0m in \u001b[0;36m<module>\u001b[0;34m()\u001b[0m\n\u001b[0;32m----> 1\u001b[0;31m \u001b[0mcar_types\u001b[0m \u001b[0;34m=\u001b[0m \u001b[0mcar_type_list\u001b[0m\u001b[0;34m(\u001b[0m\u001b[0;34m)\u001b[0m\u001b[0;34m\u001b[0m\u001b[0;34m\u001b[0m\u001b[0m\n\u001b[0m\u001b[1;32m      2\u001b[0m \u001b[0mprint\u001b[0m\u001b[0;34m(\u001b[0m\u001b[0;34m'cat_types::'\u001b[0m \u001b[0;34m+\u001b[0m \u001b[0mjson\u001b[0m\u001b[0;34m.\u001b[0m\u001b[0mdumps\u001b[0m\u001b[0;34m(\u001b[0m\u001b[0mcar_types\u001b[0m\u001b[0;34m)\u001b[0m\u001b[0;34m)\u001b[0m\u001b[0;34m\u001b[0m\u001b[0;34m\u001b[0m\u001b[0m\n\u001b[1;32m      3\u001b[0m \u001b[0;34m\u001b[0m\u001b[0m\n\u001b[1;32m      4\u001b[0m \u001b[0minfo\u001b[0m \u001b[0;34m=\u001b[0m \u001b[0;34m[\u001b[0m\u001b[0;34m]\u001b[0m\u001b[0;34m\u001b[0m\u001b[0;34m\u001b[0m\u001b[0m\n\u001b[1;32m      5\u001b[0m \u001b[0;32mfor\u001b[0m \u001b[0mj\u001b[0m \u001b[0;32min\u001b[0m \u001b[0mcar_types\u001b[0m\u001b[0;34m:\u001b[0m\u001b[0;34m\u001b[0m\u001b[0;34m\u001b[0m\u001b[0m\n",
            "\u001b[0;32m<ipython-input-23-3cc1554b8126>\u001b[0m in \u001b[0;36mcar_type_list\u001b[0;34m()\u001b[0m\n\u001b[1;32m     25\u001b[0m     \u001b[0mtopicsindex\u001b[0m \u001b[0;34m=\u001b[0m \u001b[0msoup\u001b[0m\u001b[0;34m.\u001b[0m\u001b[0mfind\u001b[0m\u001b[0;34m(\u001b[0m\u001b[0;34m'ul'\u001b[0m\u001b[0;34m,\u001b[0m \u001b[0mattrs\u001b[0m\u001b[0;34m=\u001b[0m\u001b[0;34m{\u001b[0m\u001b[0;34m'class'\u001b[0m\u001b[0;34m:\u001b[0m \u001b[0;34m'bike_lists'\u001b[0m\u001b[0;34m}\u001b[0m\u001b[0;34m)\u001b[0m\u001b[0;34m\u001b[0m\u001b[0;34m\u001b[0m\u001b[0m\n\u001b[1;32m     26\u001b[0m     \u001b[0mprint\u001b[0m\u001b[0;34m(\u001b[0m\u001b[0mtopicsindex\u001b[0m\u001b[0;34m)\u001b[0m\u001b[0;34m\u001b[0m\u001b[0;34m\u001b[0m\u001b[0m\n\u001b[0;32m---> 27\u001b[0;31m     \u001b[0mtopics\u001b[0m \u001b[0;34m=\u001b[0m \u001b[0mtopicsindex\u001b[0m\u001b[0;34m.\u001b[0m\u001b[0mfind_all\u001b[0m\u001b[0;34m(\u001b[0m\u001b[0;34m'a'\u001b[0m\u001b[0;34m)\u001b[0m\u001b[0;34m\u001b[0m\u001b[0;34m\u001b[0m\u001b[0m\n\u001b[0m\u001b[1;32m     28\u001b[0m \u001b[0;34m\u001b[0m\u001b[0m\n\u001b[1;32m     29\u001b[0m     \u001b[0;31m# topics = [t.find_all('a') for t in soup.find_all('ul', attrs={'class': 'bike_lists'})]\u001b[0m\u001b[0;34m\u001b[0m\u001b[0;34m\u001b[0m\u001b[0;34m\u001b[0m\u001b[0m\n",
            "\u001b[0;31mAttributeError\u001b[0m: 'NoneType' object has no attribute 'find_all'"
          ]
        }
      ]
    },
    {
      "cell_type": "code",
      "metadata": {
        "id": "Pv2bJIP4P4by",
        "colab_type": "code",
        "colab": {}
      },
      "source": [
        "import csv\n",
        "with open(\"goobike.csv\", \"w\") as f:\n",
        "    writer = csv.writer(f, lineterminator='\\n')\n",
        "    writer.writerow(info[0].keys())\n",
        "    for i in info:\n",
        "        writer.writerow(i.values())"
      ],
      "execution_count": 0,
      "outputs": []
    },
    {
      "cell_type": "code",
      "metadata": {
        "id": "QWYD7k6FuSLY",
        "colab_type": "code",
        "outputId": "e8820e85-c545-40d5-de45-dd934d4d10be",
        "colab": {
          "base_uri": "https://localhost:8080/",
          "height": 126
        }
      },
      "source": [
        "from google.colab import drive\n",
        "drive.mount('/content/drive')"
      ],
      "execution_count": 0,
      "outputs": [
        {
          "output_type": "stream",
          "text": [
            "Go to this URL in a browser: https://accounts.google.com/o/oauth2/auth?client_id=947318989803-6bn6qk8qdgf4n4g3pfee6491hc0brc4i.apps.googleusercontent.com&redirect_uri=urn%3aietf%3awg%3aoauth%3a2.0%3aoob&response_type=code&scope=email%20https%3a%2f%2fwww.googleapis.com%2fauth%2fdocs.test%20https%3a%2f%2fwww.googleapis.com%2fauth%2fdrive%20https%3a%2f%2fwww.googleapis.com%2fauth%2fdrive.photos.readonly%20https%3a%2f%2fwww.googleapis.com%2fauth%2fpeopleapi.readonly\n",
            "\n",
            "Enter your authorization code:\n",
            "··········\n",
            "Mounted at /content/drive\n"
          ],
          "name": "stdout"
        }
      ]
    }
  ]
}