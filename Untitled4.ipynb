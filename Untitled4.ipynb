{
  "nbformat": 4,
  "nbformat_minor": 0,
  "metadata": {
    "colab": {
      "name": "Untitled4.ipynb",
      "provenance": [],
      "toc_visible": true,
      "authorship_tag": "ABX9TyMYIw0kILtW2/MPIiQ1SzD5",
      "include_colab_link": true
    },
    "kernelspec": {
      "name": "python3",
      "display_name": "Python 3"
    }
  },
  "cells": [
    {
      "cell_type": "markdown",
      "metadata": {
        "id": "view-in-github",
        "colab_type": "text"
      },
      "source": [
        "<a href=\"https://colab.research.google.com/github/you0229/scraping-goobike/blob/master/Untitled4.ipynb\" target=\"_parent\"><img src=\"https://colab.research.google.com/assets/colab-badge.svg\" alt=\"Open In Colab\"/></a>"
      ]
    },
    {
      "cell_type": "code",
      "metadata": {
        "id": "S_P5ovJcdW5Y",
        "colab_type": "code",
        "colab": {}
      },
      "source": [
        "#####\n",
        "# library\n",
        "#####\n",
        "import requests\n",
        "from bs4 import BeautifulSoup\n",
        "import json"
      ],
      "execution_count": 0,
      "outputs": []
    },
    {
      "cell_type": "code",
      "metadata": {
        "id": "6xyc99nsMg1A",
        "colab_type": "code",
        "colab": {}
      },
      "source": [
        "#####\n",
        "# cost\n",
        "#####\n",
        "brand = [\n",
        "         'maker-harley_davidson'\n",
        "]\n",
        "car_types = []\n",
        "base_url = 'https://www.goobike.com/'"
      ],
      "execution_count": 0,
      "outputs": []
    },
    {
      "cell_type": "code",
      "metadata": {
        "id": "ganP5SHFnsAX",
        "colab_type": "code",
        "colab": {}
      },
      "source": [
        "#####\n",
        "# Beautiful Soup\n",
        "#####\n",
        "def get_bs(url):\n",
        "    # スクレイピング対象の URL にリクエストを送り HTML を取得する\n",
        "    res = requests.get(request_url)\n",
        "\n",
        "    # レスポンスの HTML から BeautifulSoup オブジェクトを作る\n",
        "    res.encoding = res.apparent_encoding\n",
        "    soup = BeautifulSoup(res.text.encode('utf-8'), 'html.parser')\n",
        "    # print(res.text)\n",
        "\n",
        "    return soup"
      ],
      "execution_count": 0,
      "outputs": []
    },
    {
      "cell_type": "code",
      "metadata": {
        "id": "BcFALQ8XZ1d5",
        "colab_type": "code",
        "outputId": "32dba936-d34b-4e4c-d479-d78fa82a81e3",
        "colab": {
          "base_uri": "https://localhost:8080/",
          "height": 90
        }
      },
      "source": [
        "#####\n",
        "# 車種を取得\n",
        "#####\n",
        "for i in brand:\n",
        "  request_url = base_url + i + '/index.html'\n",
        "  print('request_url::' + request_url)\n",
        "\n",
        "  soup = get_bs(request_url)\n",
        "  \n",
        "  # ページに含まれるリンクを全て取得する\n",
        "  # bike_list_selector = '#ex_class_01 > ul > li:nth-child(1) > a'\n",
        "  # links = [url.get('href') for url in soup.find_all(bike_list_selector)]\n",
        "  # print('bike_list_selector::' + bike_list_selector + \\\n",
        "  #       ', find_all::' + json.dumps(soup.find_all(bike_list_selector)) + \\\n",
        "  #       ', html')\n",
        "  # print(soup.title)\n",
        "\n",
        "  topicsindex = soup.find('ul', attrs={'class': 'bike_lists'})\n",
        "  topics = topicsindex.find_all('a')\n",
        "  org_links = [topic.get('href') for topic in topics]\n",
        "  print('org_links::' + json.dumps(org_links))\n",
        "\n",
        "  links = [url.replace('/map', '') for url in org_links]\n",
        "  print('links::' + json.dumps(links))\n",
        "\n",
        "  car_types = links\n"
      ],
      "execution_count": 39,
      "outputs": [
        {
          "output_type": "stream",
          "text": [
            "request_url::https://www.goobike.com/maker-harley_davidson/index.html\n",
            "org_links::[\"/maker-harley_davidson/car-cvo_flhrse5_roadking/map/index.html\", \"/maker-harley_davidson/car-cvo_flhrse6_roadking/map/index.html\", \"/maker-harley_davidson/car-harley_davidson_cvo_flhrse_roadking/map/index.html\", \"/maker-harley_davidson/car-cvo_flhtcu4_factorycustomultraclassicelectraglide/map/index.html\", \"/maker-harley_davidson/car-cvo_flhtcuse5_electraglideultraclassic/map/index.html\", \"/maker-harley_davidson/car-cvo_flhtcuse6_electraglideultraclassic/map/index.html\", \"/maker-harley_davidson/car-cvo_flhtcuse7_electraglideultraclassic/map/index.html\", \"/maker-harley_davidson/car-cvo_flhtcuse8_electraglideultraclassic/map/index.html\", \"/maker-harley_davidson/car-cvo_flhtkse_limited/map/index.html\", \"/maker-harley_davidson/car-cvo_flhxse_streetglide/map/index.html\", \"/maker-harley_davidson/car-cvo_flhxse2_streetglide/map/index.html\", \"/maker-harley_davidson/car-cvo_flhxse3_streetglide/map/index.html\", \"/maker-harley_davidson/car-cvo_softaildeluxe/map/index.html\", \"/maker-harley_davidson/car-cvo_fltruse_roadglideultra/map/index.html\", \"/maker-harley_davidson/car-cvo_fltrxse_roadglidecustom/map/index.html\", \"/maker-harley_davidson/car-cvo_fltrxse2_roadglidecustom/map/index.html\", \"/maker-harley_davidson/car-cvo_fxsbse_breakout/map/index.html\", \"/maker-harley_davidson/car-cvo_fxsbse2_breakout/map/index.html\", \"/maker-harley_davidson/car-cvo_fxse_prostreetbreakout/map/index.html\"]\n",
            "links::[\"/maker-harley_davidson/car-cvo_flhrse5_roadking/index.html\", \"/maker-harley_davidson/car-cvo_flhrse6_roadking/index.html\", \"/maker-harley_davidson/car-harley_davidson_cvo_flhrse_roadking/index.html\", \"/maker-harley_davidson/car-cvo_flhtcu4_factorycustomultraclassicelectraglide/index.html\", \"/maker-harley_davidson/car-cvo_flhtcuse5_electraglideultraclassic/index.html\", \"/maker-harley_davidson/car-cvo_flhtcuse6_electraglideultraclassic/index.html\", \"/maker-harley_davidson/car-cvo_flhtcuse7_electraglideultraclassic/index.html\", \"/maker-harley_davidson/car-cvo_flhtcuse8_electraglideultraclassic/index.html\", \"/maker-harley_davidson/car-cvo_flhtkse_limited/index.html\", \"/maker-harley_davidson/car-cvo_flhxse_streetglide/index.html\", \"/maker-harley_davidson/car-cvo_flhxse2_streetglide/index.html\", \"/maker-harley_davidson/car-cvo_flhxse3_streetglide/index.html\", \"/maker-harley_davidson/car-cvo_softaildeluxe/index.html\", \"/maker-harley_davidson/car-cvo_fltruse_roadglideultra/index.html\", \"/maker-harley_davidson/car-cvo_fltrxse_roadglidecustom/index.html\", \"/maker-harley_davidson/car-cvo_fltrxse2_roadglidecustom/index.html\", \"/maker-harley_davidson/car-cvo_fxsbse_breakout/index.html\", \"/maker-harley_davidson/car-cvo_fxsbse2_breakout/index.html\", \"/maker-harley_davidson/car-cvo_fxse_prostreetbreakout/index.html\"]\n"
          ],
          "name": "stdout"
        }
      ]
    },
    {
      "cell_type": "code",
      "metadata": {
        "id": "-eJWiTngpszd",
        "colab_type": "code",
        "outputId": "ac4d6c1f-8aaa-45c7-e309-ca4cae0fb289",
        "colab": {
          "base_uri": "https://localhost:8080/",
          "height": 387
        }
      },
      "source": [
        "\n",
        "info = []\n",
        "for j in car_types:\n",
        "  request_url = base_url + j\n",
        "  print('request_url::' + request_url)\n",
        "\n",
        "  soup = get_bs(request_url)\n",
        "\n",
        "  summary_lists = soup.find('div', attrs={'class': 'summary_lists'})\n",
        "  # print('summary_lists::' + str(summary_lists))\n",
        "\n",
        "  bike_sec = summary_lists.find_all('div', attrs={'class': 'bike_sec'})\n",
        "  # print('bike_sec start')\n",
        "  # print(bike_sec)\n",
        "  # print('bike_sec end')\n",
        "\n",
        "  for b in bike_sec:\n",
        "    # print(info)\n",
        "\n",
        "    bike_info = bike_sec.find('div', attrs={'class': 'bike_info'})\n",
        "\n",
        "    d = {\n",
        "        'title': bike_info.find('a', attrs={'class': 'detail_kakaku_link'}).text,\\\n",
        "        'price': bike_info.find('td', attrs={'class':'num_td'}).find('span', attrs={'class': 'num_ff'}).text,\\\n",
        "        'all_price': bike_info.find('span', attrs={'class': 'num_ff total'}).text,\\\n",
        "        'years': bike_info.find('div', attrs={'class': 'cont01'}).find('ul', attrs={'class': 'clearfix'}).find_all('li')[0].b,\\\n",
        "        'mileage': bike_info.find('div', attrs={'class': 'cont01'}).find('ul', attrs={'class': 'clearfix'}).find_all('li')[1].b,\\\n",
        "        'vehicle inspection/insurance': bike_info.find('div', attrs={'class': 'cont01'}).find('ul', attrs={'class': 'clearfix'}).find_all('li')[2].b,\\\n",
        "        'Repair history': bike_info.find('div', attrs={'class': 'cont01'}).find('ul', attrs={'class': 'clearfix'}).find_all('li')[3].b,\\\n",
        "        'URL' : request_url\n",
        "        }\n",
        "    print('put data::' + str(d))\n",
        "\n",
        "    info.append(d.copy())\n",
        "\n",
        "    del d"
      ],
      "execution_count": 62,
      "outputs": [
        {
          "output_type": "stream",
          "text": [
            "request_url::https://www.goobike.com//maker-harley_davidson/car-cvo_flhrse5_roadking/index.html\n"
          ],
          "name": "stdout"
        },
        {
          "output_type": "error",
          "ename": "AttributeError",
          "evalue": "ignored",
          "traceback": [
            "\u001b[0;31m---------------------------------------------------------------------------\u001b[0m",
            "\u001b[0;31mAttributeError\u001b[0m                            Traceback (most recent call last)",
            "\u001b[0;32m<ipython-input-62-08989e0e68c5>\u001b[0m in \u001b[0;36m<module>\u001b[0;34m()\u001b[0m\n\u001b[1;32m     18\u001b[0m     \u001b[0;31m# print(info)\u001b[0m\u001b[0;34m\u001b[0m\u001b[0;34m\u001b[0m\u001b[0;34m\u001b[0m\u001b[0m\n\u001b[1;32m     19\u001b[0m \u001b[0;34m\u001b[0m\u001b[0m\n\u001b[0;32m---> 20\u001b[0;31m     \u001b[0mbike_info\u001b[0m \u001b[0;34m=\u001b[0m \u001b[0mbike_sec\u001b[0m\u001b[0;34m.\u001b[0m\u001b[0mfind\u001b[0m\u001b[0;34m(\u001b[0m\u001b[0;34m'div'\u001b[0m\u001b[0;34m,\u001b[0m \u001b[0mattrs\u001b[0m\u001b[0;34m=\u001b[0m\u001b[0;34m{\u001b[0m\u001b[0;34m'class'\u001b[0m\u001b[0;34m:\u001b[0m \u001b[0;34m'bike_info'\u001b[0m\u001b[0;34m}\u001b[0m\u001b[0;34m)\u001b[0m\u001b[0;34m\u001b[0m\u001b[0;34m\u001b[0m\u001b[0m\n\u001b[0m\u001b[1;32m     21\u001b[0m \u001b[0;34m\u001b[0m\u001b[0m\n\u001b[1;32m     22\u001b[0m     d = {\n",
            "\u001b[0;32m/usr/local/lib/python3.6/dist-packages/bs4/element.py\u001b[0m in \u001b[0;36m__getattr__\u001b[0;34m(self, key)\u001b[0m\n\u001b[1;32m   1882\u001b[0m     \u001b[0;32mdef\u001b[0m \u001b[0m__getattr__\u001b[0m\u001b[0;34m(\u001b[0m\u001b[0mself\u001b[0m\u001b[0;34m,\u001b[0m \u001b[0mkey\u001b[0m\u001b[0;34m)\u001b[0m\u001b[0;34m:\u001b[0m\u001b[0;34m\u001b[0m\u001b[0;34m\u001b[0m\u001b[0m\n\u001b[1;32m   1883\u001b[0m         raise AttributeError(\n\u001b[0;32m-> 1884\u001b[0;31m             \u001b[0;34m\"ResultSet object has no attribute '%s'. You're probably treating a list of items like a single item. Did you call find_all() when you meant to call find()?\"\u001b[0m \u001b[0;34m%\u001b[0m \u001b[0mkey\u001b[0m\u001b[0;34m\u001b[0m\u001b[0;34m\u001b[0m\u001b[0m\n\u001b[0m\u001b[1;32m   1885\u001b[0m         )\n",
            "\u001b[0;31mAttributeError\u001b[0m: ResultSet object has no attribute 'find'. You're probably treating a list of items like a single item. Did you call find_all() when you meant to call find()?"
          ]
        }
      ]
    },
    {
      "cell_type": "code",
      "metadata": {
        "id": "Pv2bJIP4P4by",
        "colab_type": "code",
        "colab": {}
      },
      "source": [
        "import csv\n",
        "with open(\"goobike.csv\", \"w\") as f:\n",
        "    writer = csv.writer(f, lineterminator='\\n')\n",
        "    writer.writerow(info[0].keys())\n",
        "    for i in info:\n",
        "        writer.writerow(i.values())"
      ],
      "execution_count": 0,
      "outputs": []
    }
  ]
}