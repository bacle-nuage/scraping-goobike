{
  "nbformat": 4,
  "nbformat_minor": 0,
  "metadata": {
    "colab": {
      "name": "Untitled4.ipynb",
      "provenance": [],
      "toc_visible": true,
      "authorship_tag": "ABX9TyMPxVYx5yqkAzh5OKeqMkOa",
      "include_colab_link": true
    },
    "kernelspec": {
      "name": "python3",
      "display_name": "Python 3"
    }
  },
  "cells": [
    {
      "cell_type": "markdown",
      "metadata": {
        "id": "view-in-github",
        "colab_type": "text"
      },
      "source": [
        "<a href=\"https://colab.research.google.com/github/you0229/scraping-goobike/blob/master/Untitled4.ipynb\" target=\"_parent\"><img src=\"https://colab.research.google.com/assets/colab-badge.svg\" alt=\"Open In Colab\"/></a>"
      ]
    },
    {
      "cell_type": "code",
      "metadata": {
        "id": "S_P5ovJcdW5Y",
        "colab_type": "code",
        "colab": {}
      },
      "source": [
        "#####\n",
        "# library\n",
        "#####\n",
        "import requests\n",
        "from bs4 import BeautifulSoup\n",
        "import json\n",
        "import re"
      ],
      "execution_count": 0,
      "outputs": []
    },
    {
      "cell_type": "code",
      "metadata": {
        "id": "6xyc99nsMg1A",
        "colab_type": "code",
        "colab": {}
      },
      "source": [
        "#####\n",
        "# cost\n",
        "#####\n",
        "brand = [\n",
        "         'maker-harley_davidson'\n",
        "]\n",
        "car_types = []\n",
        "base_url = 'https://www.goobike.com/'"
      ],
      "execution_count": 0,
      "outputs": []
    },
    {
      "cell_type": "code",
      "metadata": {
        "id": "ganP5SHFnsAX",
        "colab_type": "code",
        "colab": {}
      },
      "source": [
        "#####\n",
        "# Beautiful Soup\n",
        "#####\n",
        "def get_bs(url):\n",
        "    # スクレイピング対象の URL にリクエストを送り HTML を取得する\n",
        "    res = requests.get(request_url)\n",
        "\n",
        "    # レスポンスの HTML から BeautifulSoup オブジェクトを作る\n",
        "    res.encoding = res.apparent_encoding\n",
        "    soup = BeautifulSoup(res.text.encode('utf-8'), 'html.parser')\n",
        "    # print(res.text)\n",
        "\n",
        "    return soup"
      ],
      "execution_count": 0,
      "outputs": []
    },
    {
      "cell_type": "code",
      "metadata": {
        "id": "BcFALQ8XZ1d5",
        "colab_type": "code",
        "outputId": "32dba936-d34b-4e4c-d479-d78fa82a81e3",
        "colab": {
          "base_uri": "https://localhost:8080/",
          "height": 93
        }
      },
      "source": [
        "#####\n",
        "# 車種を取得\n",
        "#####\n",
        "for i in brand:\n",
        "  request_url = base_url + i + '/index.html'\n",
        "  print('request_url::' + request_url)\n",
        "\n",
        "  soup = get_bs(request_url)\n",
        "  \n",
        "  # ページに含まれるリンクを全て取得する\n",
        "  # bike_list_selector = '#ex_class_01 > ul > li:nth-child(1) > a'\n",
        "  # links = [url.get('href') for url in soup.find_all(bike_list_selector)]\n",
        "  # print('bike_list_selector::' + bike_list_selector + \\\n",
        "  #       ', find_all::' + json.dumps(soup.find_all(bike_list_selector)) + \\\n",
        "  #       ', html')\n",
        "  # print(soup.title)\n",
        "\n",
        "  topicsindex = soup.find('ul', attrs={'class': 'bike_lists'})\n",
        "  topics = topicsindex.find_all('a')\n",
        "  org_links = [topic.get('href') for topic in topics]\n",
        "  print('org_links::' + json.dumps(org_links))\n",
        "\n",
        "  links = [url.replace('/map', '') for url in org_links]\n",
        "  print('links::' + json.dumps(links))\n",
        "\n",
        "  car_types = links\n"
      ],
      "execution_count": 39,
      "outputs": [
        {
          "output_type": "stream",
          "text": [
            "request_url::https://www.goobike.com/maker-harley_davidson/index.html\n",
            "org_links::[\"/maker-harley_davidson/car-cvo_flhrse5_roadking/map/index.html\", \"/maker-harley_davidson/car-cvo_flhrse6_roadking/map/index.html\", \"/maker-harley_davidson/car-harley_davidson_cvo_flhrse_roadking/map/index.html\", \"/maker-harley_davidson/car-cvo_flhtcu4_factorycustomultraclassicelectraglide/map/index.html\", \"/maker-harley_davidson/car-cvo_flhtcuse5_electraglideultraclassic/map/index.html\", \"/maker-harley_davidson/car-cvo_flhtcuse6_electraglideultraclassic/map/index.html\", \"/maker-harley_davidson/car-cvo_flhtcuse7_electraglideultraclassic/map/index.html\", \"/maker-harley_davidson/car-cvo_flhtcuse8_electraglideultraclassic/map/index.html\", \"/maker-harley_davidson/car-cvo_flhtkse_limited/map/index.html\", \"/maker-harley_davidson/car-cvo_flhxse_streetglide/map/index.html\", \"/maker-harley_davidson/car-cvo_flhxse2_streetglide/map/index.html\", \"/maker-harley_davidson/car-cvo_flhxse3_streetglide/map/index.html\", \"/maker-harley_davidson/car-cvo_softaildeluxe/map/index.html\", \"/maker-harley_davidson/car-cvo_fltruse_roadglideultra/map/index.html\", \"/maker-harley_davidson/car-cvo_fltrxse_roadglidecustom/map/index.html\", \"/maker-harley_davidson/car-cvo_fltrxse2_roadglidecustom/map/index.html\", \"/maker-harley_davidson/car-cvo_fxsbse_breakout/map/index.html\", \"/maker-harley_davidson/car-cvo_fxsbse2_breakout/map/index.html\", \"/maker-harley_davidson/car-cvo_fxse_prostreetbreakout/map/index.html\"]\n",
            "links::[\"/maker-harley_davidson/car-cvo_flhrse5_roadking/index.html\", \"/maker-harley_davidson/car-cvo_flhrse6_roadking/index.html\", \"/maker-harley_davidson/car-harley_davidson_cvo_flhrse_roadking/index.html\", \"/maker-harley_davidson/car-cvo_flhtcu4_factorycustomultraclassicelectraglide/index.html\", \"/maker-harley_davidson/car-cvo_flhtcuse5_electraglideultraclassic/index.html\", \"/maker-harley_davidson/car-cvo_flhtcuse6_electraglideultraclassic/index.html\", \"/maker-harley_davidson/car-cvo_flhtcuse7_electraglideultraclassic/index.html\", \"/maker-harley_davidson/car-cvo_flhtcuse8_electraglideultraclassic/index.html\", \"/maker-harley_davidson/car-cvo_flhtkse_limited/index.html\", \"/maker-harley_davidson/car-cvo_flhxse_streetglide/index.html\", \"/maker-harley_davidson/car-cvo_flhxse2_streetglide/index.html\", \"/maker-harley_davidson/car-cvo_flhxse3_streetglide/index.html\", \"/maker-harley_davidson/car-cvo_softaildeluxe/index.html\", \"/maker-harley_davidson/car-cvo_fltruse_roadglideultra/index.html\", \"/maker-harley_davidson/car-cvo_fltrxse_roadglidecustom/index.html\", \"/maker-harley_davidson/car-cvo_fltrxse2_roadglidecustom/index.html\", \"/maker-harley_davidson/car-cvo_fxsbse_breakout/index.html\", \"/maker-harley_davidson/car-cvo_fxsbse2_breakout/index.html\", \"/maker-harley_davidson/car-cvo_fxse_prostreetbreakout/index.html\"]\n"
          ],
          "name": "stdout"
        }
      ]
    },
    {
      "cell_type": "code",
      "metadata": {
        "id": "GYZjYhYUg7Kn",
        "colab_type": "code",
        "colab": {}
      },
      "source": [
        "def del_tag(tag, tag_name):\n",
        "  needle = '<'+tag_name+'>(.*?)</'+tag_name+'>'\n",
        "  return re.search(needle, str(tag)).group(1)"
      ],
      "execution_count": 0,
      "outputs": []
    },
    {
      "cell_type": "code",
      "metadata": {
        "id": "-eJWiTngpszd",
        "colab_type": "code",
        "outputId": "f55f8d55-f01b-4971-cad8-f7c5fc721a7f",
        "colab": {
          "base_uri": "https://localhost:8080/",
          "height": 1000
        }
      },
      "source": [
        "\n",
        "info = []\n",
        "for j in car_types:\n",
        "  request_url = base_url + j\n",
        "  print('request_url::' + request_url)\n",
        "\n",
        "  soup = get_bs(request_url)\n",
        "\n",
        "  summary_lists = soup.find('div', attrs={'class': 'summary_lists'})\n",
        "  # print('summary_lists::' + str(summary_lists))\n",
        "\n",
        "  bike_sec = summary_lists.find_all('div', attrs={'class': 'bike_sec'})\n",
        "  # print('bike_sec start')\n",
        "  # print(bike_sec)\n",
        "  # print('bike_sec end')\n",
        "\n",
        "  for b in bike_sec:\n",
        "    # print(info)\n",
        "\n",
        "    bike_info = b.find('div', attrs={'class': 'bike_info'})\n",
        "    clearfix_li = bike_info.find('div', attrs={'class': 'cont01'}).find('ul', attrs={'class': 'clearfix'}).find_all('li')\n",
        "\n",
        "    d = {\n",
        "        'title': bike_info.find('a', attrs={'class': 'detail_kakaku_link'}).text,\\\n",
        "        'price': bike_info.find('td', attrs={'class':'num_td'}).find('span', attrs={'class': 'num_ff'}).text,\\\n",
        "        'all_price': bike_info.find('span', attrs={'class': 'num_ff total'}).text,\\\n",
        "        'years': del_tag(clearfix_li[0].b, 'b'),\\\n",
        "        'mileage': del_tag(clearfix_li[1].b, 'b'),\\\n",
        "        'vehicle inspection/insurance': del_tag(clearfix_li[2].b, 'b'),\\\n",
        "        'Repair history': del_tag(clearfix_li[3].b, 'b'),\\\n",
        "        'URL' : request_url\n",
        "        }\n",
        "    print('put data::' + str(d))\n",
        "\n",
        "    info.append(d.copy())\n",
        "\n",
        "    del d"
      ],
      "execution_count": 100,
      "outputs": [
        {
          "output_type": "stream",
          "text": [
            "request_url::https://www.goobike.com//maker-harley_davidson/car-cvo_flhrse5_roadking/index.html\n",
            "put data::{'title': 'ＣＶＯ\\u3000ＦＬＨＲＳＥ５\\u3000ロードキング', 'price': '220', 'all_price': '227.8', 'years': '2013年', 'mileage': '4782Km', 'vehicle inspection/insurance': '検無し', 'Repair history': 'なし', 'URL': 'https://www.goobike.com//maker-harley_davidson/car-cvo_flhrse5_roadking/index.html'}\n",
            "put data::{'title': 'ＣＶＯ\\u3000ＦＬＨＲＳＥ５\\u3000ロードキング\\u3000ジキル＆ハイドマフラー\\u3000ＥＴＣ他', 'price': '208.94', 'all_price': '214.99', 'years': '2013年', 'mileage': '8184Km', 'vehicle inspection/insurance': '検2020/09', 'Repair history': 'なし', 'URL': 'https://www.goobike.com//maker-harley_davidson/car-cvo_flhrse5_roadking/index.html'}\n",
            "put data::{'title': 'ＣＶＯ\\u3000ＦＬＨＲＳＥ５\\u3000ロードキング', 'price': '220', 'all_price': '232', 'years': '2013年', 'mileage': '10565Km', 'vehicle inspection/insurance': '検2021/07', 'Repair history': 'なし', 'URL': 'https://www.goobike.com//maker-harley_davidson/car-cvo_flhrse5_roadking/index.html'}\n",
            "put data::{'title': 'ＣＶＯ\\u3000ＦＬＨＲＳＥ５\\u3000ロードキング', 'price': '207', 'all_price': '217.93', 'years': '2013年', 'mileage': '7524Km', 'vehicle inspection/insurance': '検2021/05', 'Repair history': 'なし', 'URL': 'https://www.goobike.com//maker-harley_davidson/car-cvo_flhrse5_roadking/index.html'}\n",
            "put data::{'title': 'ＣＶＯ\\u3000ＦＬＨＲＳＥ５\\u3000ロードキング', 'price': '204.5', 'all_price': '210', 'years': '2013年', 'mileage': '13556Km', 'vehicle inspection/insurance': '検無し', 'Repair history': 'なし', 'URL': 'https://www.goobike.com//maker-harley_davidson/car-cvo_flhrse5_roadking/index.html'}\n",
            "put data::{'title': 'ＣＶＯ\\u3000ＦＬＨＲＳＥ５\\u3000ロードキング', 'price': '195', 'all_price': '204.51', 'years': '2013年', 'mileage': '6530Km', 'vehicle inspection/insurance': '検無し', 'Repair history': 'なし', 'URL': 'https://www.goobike.com//maker-harley_davidson/car-cvo_flhrse5_roadking/index.html'}\n",
            "request_url::https://www.goobike.com//maker-harley_davidson/car-cvo_flhrse6_roadking/index.html\n",
            "put data::{'title': 'ＣＶＯ\\u3000ＦＬＨＲＳＥ６\\u3000ロードキング\\u3000Ｔ−ＭＡＮカム\\u3000チューニング\\u3000社外マフラー', 'price': '218', 'all_price': '228', 'years': '2014年', 'mileage': '1123Km', 'vehicle inspection/insurance': '検2021/11', 'Repair history': 'なし', 'URL': 'https://www.goobike.com//maker-harley_davidson/car-cvo_flhrse6_roadking/index.html'}\n",
            "put data::{'title': 'ＣＶＯ\\u3000ＦＬＨＲＳＥ６\\u3000ロードキング', 'price': '214.5', 'all_price': '225.5', 'years': '2014年', 'mileage': '15500Km', 'vehicle inspection/insurance': '検無し', 'Repair history': 'なし', 'URL': 'https://www.goobike.com//maker-harley_davidson/car-cvo_flhrse6_roadking/index.html'}\n",
            "request_url::https://www.goobike.com//maker-harley_davidson/car-harley_davidson_cvo_flhrse_roadking/index.html\n",
            "put data::{'title': 'ＣＶＯ\\u3000ＦＬＨＲＳＥ\\u3000ロードキング\\u3000ＥＴＣ', 'price': '189', 'all_price': '200.19', 'years': '2014年', 'mileage': '12550Km', 'vehicle inspection/insurance': '検無し', 'Repair history': 'なし', 'URL': 'https://www.goobike.com//maker-harley_davidson/car-harley_davidson_cvo_flhrse_roadking/index.html'}\n",
            "request_url::https://www.goobike.com//maker-harley_davidson/car-cvo_flhtcu4_factorycustomultraclassicelectraglide/index.html\n",
            "put data::{'title': 'ＣＶＯ\\u3000ＦＬＨＴＣＵ４\\u3000ファクトリーカスタムウルトラクラシックエレクトラグライド', 'price': '209', 'all_price': '217', 'years': '2009年', 'mileage': '41737Km', 'vehicle inspection/insurance': '検2020/06', 'Repair history': 'なし', 'URL': 'https://www.goobike.com//maker-harley_davidson/car-cvo_flhtcu4_factorycustomultraclassicelectraglide/index.html'}\n",
            "request_url::https://www.goobike.com//maker-harley_davidson/car-cvo_flhtcuse5_electraglideultraclassic/index.html\n",
            "put data::{'title': 'ＣＶＯ\\u3000ＦＬＨＴＣＵＳＥ５\\u3000エレクトラグライドウルトラクラシック', 'price': '189.9', 'all_price': '201.83', 'years': '2010年', 'mileage': '19855Km', 'vehicle inspection/insurance': '検2022/04', 'Repair history': 'なし', 'URL': 'https://www.goobike.com//maker-harley_davidson/car-cvo_flhtcuse5_electraglideultraclassic/index.html'}\n",
            "put data::{'title': 'ＣＶＯ\\u3000ＦＬＨＴＣＵＳＥ５\\u3000エレクトラグライドウルトラクラシック', 'price': '185', 'all_price': '197.8', 'years': '2010年', 'mileage': '21121Km', 'vehicle inspection/insurance': '検無し', 'Repair history': 'なし', 'URL': 'https://www.goobike.com//maker-harley_davidson/car-cvo_flhtcuse5_electraglideultraclassic/index.html'}\n",
            "put data::{'title': 'ＦＬＨＴＣＵＳＥ５', 'price': '228', 'all_price': '238', 'years': '2009年', 'mileage': '20300Km', 'vehicle inspection/insurance': '検無し', 'Repair history': 'なし', 'URL': 'https://www.goobike.com//maker-harley_davidson/car-cvo_flhtcuse5_electraglideultraclassic/index.html'}\n",
            "put data::{'title': 'ＣＶＯ\\u3000ＦＬＨＴＣＵＳＥ５\\u3000エレクトラグライドウルトラクラシック', 'price': '217', 'all_price': '225', 'years': '2010年', 'mileage': '9016Km', 'vehicle inspection/insurance': '検2020/08', 'Repair history': 'なし', 'URL': 'https://www.goobike.com//maker-harley_davidson/car-cvo_flhtcuse5_electraglideultraclassic/index.html'}\n",
            "put data::{'title': 'ＣＶＯ\\u3000ＦＬＨＴＣＵＳＥ５\\u3000エレクトラグライドウルトラクラシック', 'price': '203', 'all_price': '208', 'years': '2010年', 'mileage': '25910Km', 'vehicle inspection/insurance': '検無し', 'Repair history': 'なし', 'URL': 'https://www.goobike.com//maker-harley_davidson/car-cvo_flhtcuse5_electraglideultraclassic/index.html'}\n",
            "put data::{'title': 'ＣＶＯ\\u3000ＦＬＨＴＣＵＳＥ５\\u3000エレクトラグライドウルトラクラシック', 'price': '220', 'all_price': '230', 'years': '2010年', 'mileage': '41333Km', 'vehicle inspection/insurance': '検2020/07', 'Repair history': 'なし', 'URL': 'https://www.goobike.com//maker-harley_davidson/car-cvo_flhtcuse5_electraglideultraclassic/index.html'}\n",
            "put data::{'title': 'ＣＶＯ\\u3000ＦＬＨＴＣＵＳＥ５\\u3000エレクトラグライドウルトラクラシック\\u3000サイドカー', 'price': '450', 'all_price': '468.32', 'years': '2010年', 'mileage': '11844Km', 'vehicle inspection/insurance': '検無し', 'Repair history': 'なし', 'URL': 'https://www.goobike.com//maker-harley_davidson/car-cvo_flhtcuse5_electraglideultraclassic/index.html'}\n",
            "request_url::https://www.goobike.com//maker-harley_davidson/car-cvo_flhtcuse6_electraglideultraclassic/index.html\n",
            "put data::{'title': 'ＣＶＯ\\u3000ＦＬＨＴＣＵＳＥ６\\u3000エレクトラグライドウルトラクラシック・装備多数', 'price': '191', 'all_price': '201.84', 'years': '2011年', 'mileage': '23266Km', 'vehicle inspection/insurance': '検2022/01', 'Repair history': 'なし', 'URL': 'https://www.goobike.com//maker-harley_davidson/car-cvo_flhtcuse6_electraglideultraclassic/index.html'}\n",
            "put data::{'title': 'ＣＶＯ\\u3000ＦＬＨＴＣＵＳＥ６\\u3000エレクトラグライドウルトラクラッシック', 'price': '235', 'all_price': '250', 'years': '2010年', 'mileage': '4700Km', 'vehicle inspection/insurance': '検2021/08', 'Repair history': 'なし', 'URL': 'https://www.goobike.com//maker-harley_davidson/car-cvo_flhtcuse6_electraglideultraclassic/index.html'}\n",
            "put data::{'title': 'ＦＬＨＴＣＵＳＥ６', 'price': '230', 'all_price': '242.5', 'years': '2011年', 'mileage': '19200Km', 'vehicle inspection/insurance': '検無し', 'Repair history': 'なし', 'URL': 'https://www.goobike.com//maker-harley_davidson/car-cvo_flhtcuse6_electraglideultraclassic/index.html'}\n",
            "put data::{'title': 'ＣＶＯ\\u3000ＦＬＨＴＣＵＳＥ６\\u3000エレクトラグライドウルトラクラシック', 'price': '190', 'all_price': '201.93', 'years': '2011年', 'mileage': '24643Km', 'vehicle inspection/insurance': '検2022/02', 'Repair history': 'なし', 'URL': 'https://www.goobike.com//maker-harley_davidson/car-cvo_flhtcuse6_electraglideultraclassic/index.html'}\n",
            "request_url::https://www.goobike.com//maker-harley_davidson/car-cvo_flhtcuse7_electraglideultraclassic/index.html\n",
            "put data::{'title': 'ＣＶＯ\\u3000ＦＬＨＴＣＵＳＥ７\\u3000エレクトラグライドウルトラクラシック', 'price': '280', 'all_price': '292', 'years': '2012年', 'mileage': '11104Km', 'vehicle inspection/insurance': '検無し', 'Repair history': 'なし', 'URL': 'https://www.goobike.com//maker-harley_davidson/car-cvo_flhtcuse7_electraglideultraclassic/index.html'}\n",
            "request_url::https://www.goobike.com//maker-harley_davidson/car-cvo_flhtcuse8_electraglideultraclassic/index.html\n",
            "put data::{'title': 'ＣＶＯ\\u3000ＦＬＨＴＣＵＳＥ８\\u3000エレクトラグライドウルトラクラシック\\u3000カスタム多数', 'price': '507.2', 'all_price': '521.89', 'years': '2013年', 'mileage': '6700Km', 'vehicle inspection/insurance': '検無し', 'Repair history': 'なし', 'URL': 'https://www.goobike.com//maker-harley_davidson/car-cvo_flhtcuse8_electraglideultraclassic/index.html'}\n",
            "request_url::https://www.goobike.com//maker-harley_davidson/car-cvo_flhtkse_limited/index.html\n",
            "put data::{'title': 'ＣＶＯ\\u3000ＦＬＨＴＫＳＥ\\u3000リミテッド\\u3000２０１９年モデル\\u3000バックギア\\u3000ＥＴＣ２．０', 'price': '438.8', 'all_price': '448.9', 'years': '2019年', 'mileage': '3592Km', 'vehicle inspection/insurance': '検2021/06', 'Repair history': 'なし', 'URL': 'https://www.goobike.com//maker-harley_davidson/car-cvo_flhtkse_limited/index.html'}\n",
            "put data::{'title': 'ＣＶＯ\\u3000ＦＬＨＴＫＳＥ\\u3000リミテッド\\u3000\\u3000萬羽製リバースギア装備', 'price': '341', 'all_price': '348.73', 'years': '2014年', 'mileage': '407Km', 'vehicle inspection/insurance': '検無し', 'Repair history': 'なし', 'URL': 'https://www.goobike.com//maker-harley_davidson/car-cvo_flhtkse_limited/index.html'}\n",
            "put data::{'title': 'ＣＶＯ\\u3000ＦＬＨＴＫＳＥ\\u3000リミテッド', 'price': '298', 'all_price': '308', 'years': '2014年', 'mileage': '7319Km', 'vehicle inspection/insurance': '検無し', 'Repair history': 'なし', 'URL': 'https://www.goobike.com//maker-harley_davidson/car-cvo_flhtkse_limited/index.html'}\n",
            "put data::{'title': 'ＣＶＯ\\u3000ＦＬＨＴＫＳＥ\\u3000リミテッド\\u3000マンババックギヤ付', 'price': '298', 'all_price': '305.2', 'years': '2016年', 'mileage': '11963Km', 'vehicle inspection/insurance': '検2021/02', 'Repair history': 'なし', 'URL': 'https://www.goobike.com//maker-harley_davidson/car-cvo_flhtkse_limited/index.html'}\n",
            "put data::{'title': 'ＣＶＯ\\u3000ＦＬＨＴＫＳＥ\\u3000リミテッド\\u3000２０１５年モデル\\u3000バックギア', 'price': '248.8', 'all_price': '258.6', 'years': '2015年', 'mileage': '40191Km', 'vehicle inspection/insurance': '検2020/07', 'Repair history': 'なし', 'URL': 'https://www.goobike.com//maker-harley_davidson/car-cvo_flhtkse_limited/index.html'}\n",
            "put data::{'title': 'ＣＶＯ\\u3000ＦＬＨＴＫＳＥ\\u3000リミテッド', 'price': '400', 'all_price': '404.4', 'years': '2018年', 'mileage': '326Km', 'vehicle inspection/insurance': '検2022/08', 'Repair history': 'なし', 'URL': 'https://www.goobike.com//maker-harley_davidson/car-cvo_flhtkse_limited/index.html'}\n",
            "put data::{'title': 'ＣＶＯ\\u3000ＦＬＨＴＫＳＥ\\u3000リミテッド', 'price': '280', 'all_price': '289.9', 'years': '2014年', 'mileage': '5096Km', 'vehicle inspection/insurance': '検2021/07', 'Repair history': 'なし', 'URL': 'https://www.goobike.com//maker-harley_davidson/car-cvo_flhtkse_limited/index.html'}\n",
            "put data::{'title': 'ＣＶＯ\\u3000ＦＬＨＴＫＳＥ\\u3000リミテッド', 'price': '460', 'all_price': '466', 'years': '2019年', 'mileage': '685Km', 'vehicle inspection/insurance': '検2021/12', 'Repair history': 'なし', 'URL': 'https://www.goobike.com//maker-harley_davidson/car-cvo_flhtkse_limited/index.html'}\n",
            "put data::{'title': 'ＣＶＯ\\u3000ＦＬＨＴＫＳＥ\\u3000リミテッド\\u3000２０１８年モデル\\u3000１，９２３ｃｃ', 'price': '420', 'all_price': '426.05', 'years': '2018年', 'mileage': '320Km', 'vehicle inspection/insurance': '検2022/07', 'Repair history': 'なし', 'URL': 'https://www.goobike.com//maker-harley_davidson/car-cvo_flhtkse_limited/index.html'}\n",
            "put data::{'title': 'ＣＶＯ\\u3000ＦＬＨＴＫＳＥ\\u3000リミテッド\\u3000バックギＳ\\u3000ＥＴＣ\\u3000リアサス', 'price': '419', 'all_price': '420', 'years': '2018年', 'mileage': '391Km', 'vehicle inspection/insurance': '検2022/04', 'Repair history': 'なし', 'URL': 'https://www.goobike.com//maker-harley_davidson/car-cvo_flhtkse_limited/index.html'}\n",
            "put data::{'title': 'ＣＶＯ\\u3000ＦＬＨＴＫＳＥ\\u3000リミテッド\\u3000キーレス\\u3000ＡＢＳ', 'price': '374', 'all_price': '386.2', 'years': '2015年', 'mileage': '4Km', 'vehicle inspection/insurance': '検無し', 'Repair history': 'なし', 'URL': 'https://www.goobike.com//maker-harley_davidson/car-cvo_flhtkse_limited/index.html'}\n",
            "put data::{'title': 'ＣＶＯ\\u3000ＦＬＨＴＫＳＥ\\u3000リミテッド', 'price': '349', 'all_price': '359', 'years': '2015年', 'mileage': '2Km', 'vehicle inspection/insurance': '検無し', 'Repair history': 'なし', 'URL': 'https://www.goobike.com//maker-harley_davidson/car-cvo_flhtkse_limited/index.html'}\n",
            "put data::{'title': 'ＣＶＯ\\u3000ＦＬＨＴＫＳＥ\\u3000リミテッド', 'price': '285', 'all_price': '293.6', 'years': '2014年', 'mileage': '3153Km', 'vehicle inspection/insurance': '検無し', 'Repair history': 'なし', 'URL': 'https://www.goobike.com//maker-harley_davidson/car-cvo_flhtkse_limited/index.html'}\n",
            "request_url::https://www.goobike.com//maker-harley_davidson/car-cvo_flhxse_streetglide/index.html\n",
            "put data::{'title': 'ＣＶＯ\\u3000ＦＬＨＸＳＥ\\u3000ストリートグライド\\u3000ワンオーナー\\u3000バンス＆ハインズマフラー', 'price': '376', 'all_price': '386', 'years': '2018年', 'mileage': '8071Km', 'vehicle inspection/insurance': '検2020/10', 'Repair history': 'なし', 'URL': 'https://www.goobike.com//maker-harley_davidson/car-cvo_flhxse_streetglide/index.html'}\n",
            "put data::{'title': 'ＣＶＯ\\u3000ＦＬＨＸＳＥ\\u3000ストリートグライド', 'price': '348', 'all_price': '364.19', 'years': '2017年', 'mileage': '2834Km', 'vehicle inspection/insurance': '検無し', 'Repair history': 'なし', 'URL': 'https://www.goobike.com//maker-harley_davidson/car-cvo_flhxse_streetglide/index.html'}\n",
            "put data::{'title': 'ＣＶＯ\\u3000ＦＬＨＸＳＥ\\u3000ストリートグライド\\u3000バックギア\\u3000２０１７年モデル', 'price': '348.8', 'all_price': '361.8', 'years': '2016年', 'mileage': '2726Km', 'vehicle inspection/insurance': '検無し', 'Repair history': 'なし', 'URL': 'https://www.goobike.com//maker-harley_davidson/car-cvo_flhxse_streetglide/index.html'}\n",
            "put data::{'title': 'ＣＶＯ\\u3000ＦＬＨＸＳＥ\\u3000ストリートグライド\\u3000２０１５年モデル\\u3000ＥＴＣ', 'price': '278', 'all_price': '291', 'years': '2015年', 'mileage': '4053Km', 'vehicle inspection/insurance': '検無し', 'Repair history': 'なし', 'URL': 'https://www.goobike.com//maker-harley_davidson/car-cvo_flhxse_streetglide/index.html'}\n",
            "put data::{'title': 'ＣＶＯ\\u3000ＦＬＨＸＳＥ\\u3000ストリートグライド\\u3000１６６９４', 'price': '168.8', 'all_price': '177.8', 'years': '2010年', 'mileage': '42443Km', 'vehicle inspection/insurance': '検無し', 'Repair history': 'なし', 'URL': 'https://www.goobike.com//maker-harley_davidson/car-cvo_flhxse_streetglide/index.html'}\n",
            "put data::{'title': 'ＣＶＯ\\u3000ＦＬＨＸＳＥ\\u3000ストリートグライド', 'price': '328', 'all_price': '338', 'years': '2015年', 'mileage': '40070Km', 'vehicle inspection/insurance': '検無し', 'Repair history': 'なし', 'URL': 'https://www.goobike.com//maker-harley_davidson/car-cvo_flhxse_streetglide/index.html'}\n",
            "put data::{'title': 'ＣＶＯ\\u3000ＦＬＨＸＳＥ\\u3000ストリートグライド', 'price': '175', 'all_price': '187.2', 'years': '2010年', 'mileage': '55058Km', 'vehicle inspection/insurance': '検2021/03', 'Repair history': 'なし', 'URL': 'https://www.goobike.com//maker-harley_davidson/car-cvo_flhxse_streetglide/index.html'}\n",
            "put data::{'title': 'ＣＶＯ\\u3000ＦＬＨＸＳＥ\\u3000ストリートグライド\\u3000マンバ製バックギア装備\\u3000ワンオーナー', 'price': '358', 'all_price': '368.5', 'years': '2016年', 'mileage': '7916Km', 'vehicle inspection/insurance': '検無し', 'Repair history': 'なし', 'URL': 'https://www.goobike.com//maker-harley_davidson/car-cvo_flhxse_streetglide/index.html'}\n",
            "put data::{'title': 'ＣＶＯ\\u3000ＦＬＨＸＳＥ\\u3000ストリートグライド', 'price': '305.8', 'all_price': '320.9', 'years': '2015年', 'mileage': '11474Km', 'vehicle inspection/insurance': '検無し', 'Repair history': 'なし', 'URL': 'https://www.goobike.com//maker-harley_davidson/car-cvo_flhxse_streetglide/index.html'}\n",
            "put data::{'title': 'ＣＶＯ\\u3000ＦＬＨＸＳＥ\\u3000ストリートグライド\\u3000セキュリティ付き', 'price': '189', 'all_price': '205.2', 'years': '2010年', 'mileage': '23369Km', 'vehicle inspection/insurance': '検無し', 'Repair history': 'なし', 'URL': 'https://www.goobike.com//maker-harley_davidson/car-cvo_flhxse_streetglide/index.html'}\n",
            "put data::{'title': 'ＣＶＯ\\u3000ＦＬＨＸＳＥ\\u3000ストリートグライド\\u3000１９２３ｃｃ\\u3000モーターステージＳＯ', 'price': '413.94', 'all_price': '419.99', 'years': '2019年', 'mileage': '1768Km', 'vehicle inspection/insurance': '検2022/05', 'Repair history': 'なし', 'URL': 'https://www.goobike.com//maker-harley_davidson/car-cvo_flhxse_streetglide/index.html'}\n",
            "put data::{'title': 'ＣＶＯ\\u3000ＦＬＨＸＳＥ\\u3000ストリートグライド\\u3000\\u3000バンスマフラー', 'price': '328', 'all_price': '338', 'years': '2016年', 'mileage': '7470Km', 'vehicle inspection/insurance': '検2021/09', 'Repair history': 'なし', 'URL': 'https://www.goobike.com//maker-harley_davidson/car-cvo_flhxse_streetglide/index.html'}\n",
            "put data::{'title': 'ＣＶＯ\\u3000ＦＬＨＸＳＥ\\u3000ストリートグライド', 'price': '298', 'all_price': '312.9', 'years': '2015年', 'mileage': '481Km', 'vehicle inspection/insurance': '検無し', 'Repair history': 'なし', 'URL': 'https://www.goobike.com//maker-harley_davidson/car-cvo_flhxse_streetglide/index.html'}\n",
            "put data::{'title': 'ＣＶＯ\\u3000ＦＬＨＸＳＥ\\u3000ストリートグライド\\u3000バックギア付き', 'price': '239.99', 'all_price': '250.9', 'years': '2010年', 'mileage': '2110Km', 'vehicle inspection/insurance': '検無し', 'Repair history': 'なし', 'URL': 'https://www.goobike.com//maker-harley_davidson/car-cvo_flhxse_streetglide/index.html'}\n",
            "put data::{'title': 'ＣＶＯ\\u3000ＦＬＨＸＳＥ\\u3000ストリートグライド', 'price': '334.8', 'all_price': '347.3', 'years': '2017年', 'mileage': '2203Km', 'vehicle inspection/insurance': '検無し', 'Repair history': 'なし', 'URL': 'https://www.goobike.com//maker-harley_davidson/car-cvo_flhxse_streetglide/index.html'}\n",
            "put data::{'title': 'ＣＶＯ\\u3000ＦＬＨＸＳＥ\\u3000ストリートグライド', 'price': '231', 'all_price': '240.14', 'years': '2011年', 'mileage': '15626Km', 'vehicle inspection/insurance': '検2021/03', 'Repair history': 'なし', 'URL': 'https://www.goobike.com//maker-harley_davidson/car-cvo_flhxse_streetglide/index.html'}\n",
            "put data::{'title': 'ＣＶＯ\\u3000ＦＬＨＸＳＥ\\u3000ストリートグライド', 'price': '180', 'all_price': '190', 'years': '2011年', 'mileage': '59233Km', 'vehicle inspection/insurance': '検無し', 'Repair history': 'なし', 'URL': 'https://www.goobike.com//maker-harley_davidson/car-cvo_flhxse_streetglide/index.html'}\n",
            "put data::{'title': 'ＣＶＯ\\u3000ＦＬＨＸＳＥ\\u3000ストリートグライド', 'price': '548', 'all_price': '553', 'years': '2016年', 'mileage': '19000Km', 'vehicle inspection/insurance': '検2021/09', 'Repair history': 'なし', 'URL': 'https://www.goobike.com//maker-harley_davidson/car-cvo_flhxse_streetglide/index.html'}\n",
            "put data::{'title': 'ＣＶＯ\\u3000ＦＬＨＸＳＥ\\u3000ストリートグライド\\u3000フルカスタム', 'price': '490', 'all_price': '498', 'years': '2016年', 'mileage': '4950Km', 'vehicle inspection/insurance': '検無し', 'Repair history': 'なし', 'URL': 'https://www.goobike.com//maker-harley_davidson/car-cvo_flhxse_streetglide/index.html'}\n",
            "put data::{'title': 'ＣＶＯ\\u3000ＦＬＨＸＳＥ\\u3000ストリートグライド', 'price': '398', 'all_price': '410', 'years': '2020年', 'mileage': '10Km', 'vehicle inspection/insurance': '検2023/04', 'Repair history': 'なし', 'URL': 'https://www.goobike.com//maker-harley_davidson/car-cvo_flhxse_streetglide/index.html'}\n",
            "put data::{'title': 'ＣＶＯ\\u3000ＦＬＨＸＳＥ\\u3000ストリートグライド', 'price': '381', 'all_price': '388', 'years': '2020年', 'mileage': '80Km', 'vehicle inspection/insurance': '検2023/02', 'Repair history': 'なし', 'URL': 'https://www.goobike.com//maker-harley_davidson/car-cvo_flhxse_streetglide/index.html'}\n",
            "put data::{'title': 'ＣＶＯ\\u3000ＦＬＨＸＳＥ\\u3000ストリートグライド', 'price': '366', 'all_price': '372.88', 'years': '2018年', 'mileage': '573Km', 'vehicle inspection/insurance': '検2021/12', 'Repair history': 'なし', 'URL': 'https://www.goobike.com//maker-harley_davidson/car-cvo_flhxse_streetglide/index.html'}\n",
            "put data::{'title': 'ＣＶＯ\\u3000ＦＬＨＸＳＥ\\u3000ストリートグライド', 'price': '358', 'all_price': '368', 'years': '2017年', 'mileage': '516Km', 'vehicle inspection/insurance': '検2021/05', 'Repair history': 'なし', 'URL': 'https://www.goobike.com//maker-harley_davidson/car-cvo_flhxse_streetglide/index.html'}\n",
            "put data::{'title': 'ＣＶＯ\\u3000ＦＬＨＸＳＥ\\u3000ストリートグライド', 'price': '328', 'all_price': '338', 'years': '2015年', 'mileage': '6489Km', 'vehicle inspection/insurance': '検無し', 'Repair history': 'なし', 'URL': 'https://www.goobike.com//maker-harley_davidson/car-cvo_flhxse_streetglide/index.html'}\n",
            "put data::{'title': 'ＣＶＯ\\u3000ＦＬＨＸＳＥ\\u3000ストリートグライド\\u3000ＬＥＤヘッドライト\\u3000オーディオ', 'price': '285', 'all_price': '298', 'years': '2015年', 'mileage': '9663Km', 'vehicle inspection/insurance': '検無し', 'Repair history': 'なし', 'URL': 'https://www.goobike.com//maker-harley_davidson/car-cvo_flhxse_streetglide/index.html'}\n",
            "put data::{'title': 'ＣＶＯ\\u3000ＦＬＨＸＳＥ\\u3000ストリートグライド', 'price': '280', 'all_price': '292', 'years': '2017年', 'mileage': '19298Km', 'vehicle inspection/insurance': '検2020/09', 'Repair history': 'なし', 'URL': 'https://www.goobike.com//maker-harley_davidson/car-cvo_flhxse_streetglide/index.html'}\n",
            "put data::{'title': 'ＣＶＯ\\u3000ＦＬＨＸＳＥ\\u3000ストリートグライド', 'price': '260', 'all_price': '269', 'years': '2015年', 'mileage': '17119Km', 'vehicle inspection/insurance': '検無し', 'Repair history': 'なし', 'URL': 'https://www.goobike.com//maker-harley_davidson/car-cvo_flhxse_streetglide/index.html'}\n",
            "put data::{'title': 'ＣＶＯ\\u3000ＦＬＨＸＳＥ\\u3000ストリートグライド', 'price': '258', 'all_price': '268', 'years': '2015年', 'mileage': '32279Km', 'vehicle inspection/insurance': '検2020/09', 'Repair history': 'なし', 'URL': 'https://www.goobike.com//maker-harley_davidson/car-cvo_flhxse_streetglide/index.html'}\n",
            "put data::{'title': 'ＦＬＨＸＳＥ\\u3000ストリートグライド\\u3000バックギア新品付き', 'price': '258', 'all_price': '263', 'years': '2010年', 'mileage': '14077Km', 'vehicle inspection/insurance': '検無し', 'Repair history': 'なし', 'URL': 'https://www.goobike.com//maker-harley_davidson/car-cvo_flhxse_streetglide/index.html'}\n",
            "put data::{'title': 'ＣＶＯ\\u3000ＦＬＨＸＳＥ\\u3000ストリートグライド', 'price': '255', 'all_price': '261', 'years': '2016年', 'mileage': '11040Km', 'vehicle inspection/insurance': '検2021/12', 'Repair history': 'なし', 'URL': 'https://www.goobike.com//maker-harley_davidson/car-cvo_flhxse_streetglide/index.html'}\n",
            "put data::{'title': 'ＣＶＯ\\u3000ＦＬＨＸＳＥ\\u3000ストリートグライド', 'price': '210', 'all_price': '222', 'years': '2010年', 'mileage': '13900Km', 'vehicle inspection/insurance': '検無し', 'Repair history': 'なし', 'URL': 'https://www.goobike.com//maker-harley_davidson/car-cvo_flhxse_streetglide/index.html'}\n",
            "put data::{'title': 'ＣＶＯ\\u3000ＦＬＨＸＳＥ\\u3000ストリートグライド', 'price': '215', 'all_price': '220', 'years': '2011年', 'mileage': '26500Km', 'vehicle inspection/insurance': '検無し', 'Repair history': 'なし', 'URL': 'https://www.goobike.com//maker-harley_davidson/car-cvo_flhxse_streetglide/index.html'}\n",
            "put data::{'title': 'ＣＶＯ\\u3000ＦＬＨＸＳＥ\\u3000ストリートグライド\\u3000\\u3000バックギア', 'price': '168', 'all_price': '175', 'years': '2010年', 'mileage': '63000Km', 'vehicle inspection/insurance': '検2020/08', 'Repair history': 'なし', 'URL': 'https://www.goobike.com//maker-harley_davidson/car-cvo_flhxse_streetglide/index.html'}\n",
            "put data::{'title': 'ＣＶＯ\\u3000ＦＬＨＸＳＥ\\u3000ストリートグライド', 'price': 'ASK', 'all_price': '- -', 'years': '2016年', 'mileage': '500Km', 'vehicle inspection/insurance': '検無し', 'Repair history': 'なし', 'URL': 'https://www.goobike.com//maker-harley_davidson/car-cvo_flhxse_streetglide/index.html'}\n",
            "put data::{'title': 'ＣＶＯ\\u3000ＦＬＨＸＳＥ\\u3000ストリートグライド', 'price': 'ASK', 'all_price': '- -', 'years': '2016年', 'mileage': '5000Km', 'vehicle inspection/insurance': '検無し', 'Repair history': 'なし', 'URL': 'https://www.goobike.com//maker-harley_davidson/car-cvo_flhxse_streetglide/index.html'}\n",
            "request_url::https://www.goobike.com//maker-harley_davidson/car-cvo_flhxse2_streetglide/index.html\n",
            "put data::{'title': 'ＣＶＯ\\u3000ＦＬＨＸＳＥ２\\u3000ストリートグライド', 'price': '345', 'all_price': '350', 'years': '2011年', 'mileage': '8800Km', 'vehicle inspection/insurance': '検2020/09', 'Repair history': 'なし', 'URL': 'https://www.goobike.com//maker-harley_davidson/car-cvo_flhxse2_streetglide/index.html'}\n",
            "put data::{'title': 'ＣＶＯ\\u3000ＦＬＨＸＳＥ２\\u3000ストリートグライド', 'price': '285', 'all_price': '293', 'years': '2011年', 'mileage': '5286Km', 'vehicle inspection/insurance': '検2020/09', 'Repair history': 'なし', 'URL': 'https://www.goobike.com//maker-harley_davidson/car-cvo_flhxse2_streetglide/index.html'}\n",
            "put data::{'title': 'ＣＶＯ\\u3000ＦＬＨＸＳＥ２\\u3000ストリートグライド', 'price': '198', 'all_price': '207', 'years': '2011年', 'mileage': '13280Km', 'vehicle inspection/insurance': '検無し', 'Repair history': 'なし', 'URL': 'https://www.goobike.com//maker-harley_davidson/car-cvo_flhxse2_streetglide/index.html'}\n",
            "put data::{'title': 'ＣＶＯ\\u3000ＦＬＨＸＳＥ２\\u3000ストリートグライド\\u3000バックギア付', 'price': '228', 'all_price': '238', 'years': '2011年', 'mileage': '17690Km', 'vehicle inspection/insurance': '検2022/04', 'Repair history': 'なし', 'URL': 'https://www.goobike.com//maker-harley_davidson/car-cvo_flhxse2_streetglide/index.html'}\n",
            "request_url::https://www.goobike.com//maker-harley_davidson/car-cvo_flhxse3_streetglide/index.html\n",
            "put data::{'title': 'ＣＶＯ\\u3000ＦＬＨＸＳＥ３\\u3000ストリートグライド\\u3000ワンオーナー', 'price': '385', 'all_price': '395', 'years': '2019年', 'mileage': '6Km', 'vehicle inspection/insurance': '検2022/10', 'Repair history': 'なし', 'URL': 'https://www.goobike.com//maker-harley_davidson/car-cvo_flhxse3_streetglide/index.html'}\n",
            "request_url::https://www.goobike.com//maker-harley_davidson/car-cvo_softaildeluxe/index.html\n",
            "put data::{'title': 'ＣＶＯ\\u3000ＦＬＳＴＮＳＥ\\u3000ソフテイルデラックス・ＣＶＯ装備・エクステンション等', 'price': '189', 'all_price': '202.84', 'years': '2015年', 'mileage': '25620Km', 'vehicle inspection/insurance': '検無し', 'Repair history': 'なし', 'URL': 'https://www.goobike.com//maker-harley_davidson/car-cvo_softaildeluxe/index.html'}\n",
            "put data::{'title': 'ＣＶＯ\\u3000ＦＬＳＴＮＳＥ\\u3000ソフテイルデラックス', 'price': '178', 'all_price': '188', 'years': '2014年', 'mileage': '18761Km', 'vehicle inspection/insurance': '検2021/07', 'Repair history': 'なし', 'URL': 'https://www.goobike.com//maker-harley_davidson/car-cvo_softaildeluxe/index.html'}\n",
            "put data::{'title': 'ＣＶＯ\\u3000ＦＬＳＴＮＳＥ\\u3000ソフテイルデラックス', 'price': '180', 'all_price': '190.8', 'years': '2014年', 'mileage': '654Km', 'vehicle inspection/insurance': '検無し', 'Repair history': 'なし', 'URL': 'https://www.goobike.com//maker-harley_davidson/car-cvo_softaildeluxe/index.html'}\n",
            "put data::{'title': 'ＣＶＯ\\u3000ＦＬＳＴＮＳＥ\\u3000ソフテイルデラックス', 'price': '218', 'all_price': '226.1', 'years': '2015年', 'mileage': '10620Km', 'vehicle inspection/insurance': '検無し', 'Repair history': 'なし', 'URL': 'https://www.goobike.com//maker-harley_davidson/car-cvo_softaildeluxe/index.html'}\n",
            "put data::{'title': 'ＣＶＯ\\u3000ＦＬＳＴＮＳＥ\\u3000ソフテイルデラックス\\u3000チューナー\\u3000ＶＰ\\u3000デフレクター', 'price': '198', 'all_price': '207', 'years': '2014年', 'mileage': '20671Km', 'vehicle inspection/insurance': '検2021/05', 'Repair history': 'なし', 'URL': 'https://www.goobike.com//maker-harley_davidson/car-cvo_softaildeluxe/index.html'}\n",
            "put data::{'title': 'ＣＶＯ\\u3000ＦＬＳＴＮＳＥ\\u3000ソフテイルデラックス', 'price': '200', 'all_price': '206', 'years': '2014年', 'mileage': '160Km', 'vehicle inspection/insurance': '検2021/03', 'Repair history': 'なし', 'URL': 'https://www.goobike.com//maker-harley_davidson/car-cvo_softaildeluxe/index.html'}\n",
            "request_url::https://www.goobike.com//maker-harley_davidson/car-cvo_fltruse_roadglideultra/index.html\n",
            "put data::{'title': 'ＣＶＯ\\u3000ＦＬＴＲＵＳＥ\\u3000ロードグライドウルトラ\\u3000ハイカム・ビックスロットル', 'price': '258', 'all_price': '272.69', 'years': '2011年', 'mileage': '27700Km', 'vehicle inspection/insurance': '検無し', 'Repair history': 'なし', 'URL': 'https://www.goobike.com//maker-harley_davidson/car-cvo_fltruse_roadglideultra/index.html'}\n",
            "put data::{'title': 'ＣＶＯ\\u3000ＦＬＴＲＵＳＥ\\u3000ロードグライドウルトラ', 'price': '288.2', 'all_price': '299.7', 'years': '2015年', 'mileage': '14657Km', 'vehicle inspection/insurance': '検無し', 'Repair history': 'なし', 'URL': 'https://www.goobike.com//maker-harley_davidson/car-cvo_fltruse_roadglideultra/index.html'}\n",
            "put data::{'title': 'ＣＶＯ\\u3000ＦＬＴＲＵＳＥ\\u3000ロードグライドウルトラ\\u3000２０１６年モデル\\u3000バックギア', 'price': '278.8', 'all_price': '288.9', 'years': '2016年', 'mileage': '5221Km', 'vehicle inspection/insurance': '検2021/01', 'Repair history': 'なし', 'URL': 'https://www.goobike.com//maker-harley_davidson/car-cvo_fltruse_roadglideultra/index.html'}\n",
            "put data::{'title': 'ＣＶＯ\\u3000ＦＬＴＲＵＳＥ\\u3000ロードグライドウルトラ', 'price': '275', 'all_price': '286.5', 'years': '2015年', 'mileage': '14290Km', 'vehicle inspection/insurance': '検無し', 'Repair history': 'なし', 'URL': 'https://www.goobike.com//maker-harley_davidson/car-cvo_fltruse_roadglideultra/index.html'}\n",
            "put data::{'title': 'ＣＶＯ\\u3000ＦＬＴＲＵＳＥ\\u3000ロードグライドウルトラ', 'price': '179.9', 'all_price': '193.83', 'years': '2011年', 'mileage': '23962Km', 'vehicle inspection/insurance': '検2021/11', 'Repair history': 'なし', 'URL': 'https://www.goobike.com//maker-harley_davidson/car-cvo_fltruse_roadglideultra/index.html'}\n",
            "put data::{'title': 'ＣＶＯ\\u3000ＦＬＴＲＵＳＥ\\u3000ロードグライドウルトラ\\u3000ＥＴＣ\\u3000Ｂギヤ\\u3000マフラー', 'price': '350', 'all_price': '360', 'years': '2011年', 'mileage': '14200Km', 'vehicle inspection/insurance': '検2021/04', 'Repair history': 'なし', 'URL': 'https://www.goobike.com//maker-harley_davidson/car-cvo_fltruse_roadglideultra/index.html'}\n",
            "put data::{'title': 'ＣＶＯ\\u3000ＦＬＴＲＵＳＥ\\u3000ロードグライドウルトラ', 'price': '305', 'all_price': '315', 'years': '2016年', 'mileage': '11807Km', 'vehicle inspection/insurance': '検無し', 'Repair history': 'なし', 'URL': 'https://www.goobike.com//maker-harley_davidson/car-cvo_fltruse_roadglideultra/index.html'}\n",
            "put data::{'title': 'ＣＶＯ\\u3000ＦＬＴＲＵＳＥ\\u3000ロードグライドウルトラ', 'price': '298', 'all_price': '308.4', 'years': '2015年', 'mileage': '8444Km', 'vehicle inspection/insurance': '検無し', 'Repair history': 'なし', 'URL': 'https://www.goobike.com//maker-harley_davidson/car-cvo_fltruse_roadglideultra/index.html'}\n",
            "put data::{'title': 'ＣＶＯ\\u3000ＦＬＴＲＵＳＥ\\u3000ロードグライドウルトラ\\u3000ＥＴＣ付き\\u3000ワンオーナー', 'price': '288', 'all_price': '301.4', 'years': '2015年', 'mileage': '23847Km', 'vehicle inspection/insurance': '検2020/11', 'Repair history': 'なし', 'URL': 'https://www.goobike.com//maker-harley_davidson/car-cvo_fltruse_roadglideultra/index.html'}\n",
            "put data::{'title': 'ＣＶＯ\\u3000ＦＬＴＲＵＳＥ\\u3000ロードグライドウルトラ', 'price': '290', 'all_price': '300', 'years': '2011年', 'mileage': '5500Km', 'vehicle inspection/insurance': '検2022/03', 'Repair history': 'なし', 'URL': 'https://www.goobike.com//maker-harley_davidson/car-cvo_fltruse_roadglideultra/index.html'}\n",
            "put data::{'title': 'ＣＶＯ\\u3000ＦＬＴＲＵＳＥ\\u3000ロードグライドウルトラ\\u3000バックギア付', 'price': '254.63', 'all_price': '269.32', 'years': '2011年', 'mileage': '25100Km', 'vehicle inspection/insurance': '検無し', 'Repair history': 'なし', 'URL': 'https://www.goobike.com//maker-harley_davidson/car-cvo_fltruse_roadglideultra/index.html'}\n",
            "put data::{'title': 'ＣＶＯ\\u3000ＦＬＴＲＵＳＥ\\u3000ロードグライドウルトラ', 'price': '400', 'all_price': '412.7', 'years': '2016年', 'mileage': '729Km', 'vehicle inspection/insurance': '検無し', 'Repair history': 'なし', 'URL': 'https://www.goobike.com//maker-harley_davidson/car-cvo_fltruse_roadglideultra/index.html'}\n",
            "request_url::https://www.goobike.com//maker-harley_davidson/car-cvo_fltrxse_roadglidecustom/index.html\n",
            "put data::{'title': 'ＣＶＯ\\u3000ＦＬＴＲＸＳＥ\\u3000ロードグライドカスタム', 'price': '245', 'all_price': '250', 'years': '2013年', 'mileage': '22270Km', 'vehicle inspection/insurance': '検無し', 'Repair history': 'なし', 'URL': 'https://www.goobike.com//maker-harley_davidson/car-cvo_fltrxse_roadglidecustom/index.html'}\n",
            "put data::{'title': 'ＣＶＯ\\u3000ＦＬＴＲＸＳＥ\\u3000ロードグライドカスタム', 'price': '230', 'all_price': '240', 'years': '2012年', 'mileage': '54550Km', 'vehicle inspection/insurance': '検無し', 'Repair history': 'なし', 'URL': 'https://www.goobike.com//maker-harley_davidson/car-cvo_fltrxse_roadglidecustom/index.html'}\n",
            "request_url::https://www.goobike.com//maker-harley_davidson/car-cvo_fltrxse2_roadglidecustom/index.html\n",
            "put data::{'title': 'ＣＶＯ\\u3000ＦＬＴＲＸＳＥ２\\u3000ロードグライドカスタム', 'price': '320', 'all_price': '330', 'years': '2012年', 'mileage': '3353Km', 'vehicle inspection/insurance': '検2021/10', 'Repair history': 'なし', 'URL': 'https://www.goobike.com//maker-harley_davidson/car-cvo_fltrxse2_roadglidecustom/index.html'}\n",
            "put data::{'title': 'ＣＶＯ\\u3000ＦＬＴＲＸＳＥ２\\u3000ロードグライドカスタム\\u3000２０１３年モデル', 'price': '289.8', 'all_price': '307.3', 'years': '2013年', 'mileage': '6416Km', 'vehicle inspection/insurance': '検無し', 'Repair history': 'なし', 'URL': 'https://www.goobike.com//maker-harley_davidson/car-cvo_fltrxse2_roadglidecustom/index.html'}\n",
            "request_url::https://www.goobike.com//maker-harley_davidson/car-cvo_fxsbse_breakout/index.html\n",
            "put data::{'title': 'ＣＶＯ\\u3000ＦＸＳＢＳＥ\\u3000ブレイクアウト', 'price': '285', 'all_price': '292.7', 'years': '2013年', 'mileage': '3968Km', 'vehicle inspection/insurance': '検無し', 'Repair history': 'なし', 'URL': 'https://www.goobike.com//maker-harley_davidson/car-cvo_fxsbse_breakout/index.html'}\n",
            "put data::{'title': 'ＣＶＯ\\u3000ＦＸＳＢＳＥ\\u3000ブレイクアウト', 'price': '264.8', 'all_price': '276.8', 'years': '2013年', 'mileage': '14200Km', 'vehicle inspection/insurance': '検無し', 'Repair history': 'なし', 'URL': 'https://www.goobike.com//maker-harley_davidson/car-cvo_fxsbse_breakout/index.html'}\n",
            "put data::{'title': 'ＣＶＯ\\u3000ＦＸＳＢＳＥ\\u3000ブレイクアウト', 'price': '313.5', 'all_price': '324.66', 'years': '2013年', 'mileage': '2224Km', 'vehicle inspection/insurance': '検無し', 'Repair history': 'なし', 'URL': 'https://www.goobike.com//maker-harley_davidson/car-cvo_fxsbse_breakout/index.html'}\n",
            "request_url::https://www.goobike.com//maker-harley_davidson/car-cvo_fxsbse2_breakout/index.html\n",
            "put data::{'title': 'ＣＶＯ\\u3000ＦＸＳＢＳＥ２\\u3000ブレイクアウト', 'price': '275', 'all_price': '282.7', 'years': '2014年', 'mileage': '1023Km', 'vehicle inspection/insurance': '検無し', 'Repair history': 'なし', 'URL': 'https://www.goobike.com//maker-harley_davidson/car-cvo_fxsbse2_breakout/index.html'}\n",
            "put data::{'title': 'ＣＶＯ\\u3000ＦＸＳＢＳＥ２\\u3000ブレイクアウト', 'price': '302.5', 'all_price': '310', 'years': '2014年', 'mileage': '16069Km', 'vehicle inspection/insurance': '検2021/04', 'Repair history': 'なし', 'URL': 'https://www.goobike.com//maker-harley_davidson/car-cvo_fxsbse2_breakout/index.html'}\n",
            "put data::{'title': 'ＣＶＯ\\u3000ＦＸＳＢＳＥ２\\u3000ブレイクアウト\\u3000キーレス\\u3000ＡＢＳ', 'price': '313.5', 'all_price': '324.66', 'years': '2013年', 'mileage': '5777Km', 'vehicle inspection/insurance': '検無し', 'Repair history': 'なし', 'URL': 'https://www.goobike.com//maker-harley_davidson/car-cvo_fxsbse2_breakout/index.html'}\n",
            "put data::{'title': 'ＣＶＯ\\u3000ＦＸＳＢＳＥ２\\u3000ブレイクアウト\\u3000社外マフラー\\u3000ＣＯＭチューニング\\u3000ＥＴＣ', 'price': '228', 'all_price': '238', 'years': '2014年', 'mileage': '11661Km', 'vehicle inspection/insurance': '検2021/06', 'Repair history': 'なし', 'URL': 'https://www.goobike.com//maker-harley_davidson/car-cvo_fxsbse2_breakout/index.html'}\n",
            "put data::{'title': 'ＣＶＯ\\u3000ＦＸＳＢＳＥ２\\u3000ブレイクアウト\\u3000２０１４年モデル\\u3000カスタム多数', 'price': '220', 'all_price': '227.24', 'years': '2014年', 'mileage': '6872Km', 'vehicle inspection/insurance': '検2021/04', 'Repair history': 'なし', 'URL': 'https://www.goobike.com//maker-harley_davidson/car-cvo_fxsbse2_breakout/index.html'}\n",
            "put data::{'title': 'ＣＶＯ\\u3000ＦＸＳＢＳＥ２\\u3000ブレイクアウト\\u3000２０１４年モデル\\u3000ＬＥＤヘッドライト', 'price': '178', 'all_price': '190.7', 'years': '2014年', 'mileage': '16696Km', 'vehicle inspection/insurance': '検無し', 'Repair history': 'なし', 'URL': 'https://www.goobike.com//maker-harley_davidson/car-cvo_fxsbse2_breakout/index.html'}\n",
            "request_url::https://www.goobike.com//maker-harley_davidson/car-cvo_fxse_prostreetbreakout/index.html\n",
            "put data::{'title': 'ＣＶＯ\\u3000ＦＸＳＥ\\u3000プロストリートブレイクアウト\\u3000スクリーミンイーグル製エアクリ', 'price': '260', 'all_price': '270.4', 'years': '2016年', 'mileage': '6099Km', 'vehicle inspection/insurance': '検2021/11', 'Repair history': 'なし', 'URL': 'https://www.goobike.com//maker-harley_davidson/car-cvo_fxse_prostreetbreakout/index.html'}\n",
            "put data::{'title': 'ＣＶＯ\\u3000ＦＸＳＥ\\u3000プロストリートブレイクアウト\\u3000マフラー\\u3000エアクリーナー', 'price': '256', 'all_price': '266.4', 'years': '2016年', 'mileage': '7605Km', 'vehicle inspection/insurance': '検2021/06', 'Repair history': 'なし', 'URL': 'https://www.goobike.com//maker-harley_davidson/car-cvo_fxse_prostreetbreakout/index.html'}\n",
            "put data::{'title': 'ＣＶＯ\\u3000ＦＸＳＥ\\u3000プロストリートブレイクアウト\\u3000２０１６年モデル\\u3000ＥＴＣ', 'price': '258.8', 'all_price': '268.9', 'years': '2016年', 'mileage': '3145Km', 'vehicle inspection/insurance': '検2021/06', 'Repair history': 'なし', 'URL': 'https://www.goobike.com//maker-harley_davidson/car-cvo_fxse_prostreetbreakout/index.html'}\n",
            "put data::{'title': 'ＣＶＯ\\u3000ＦＸＳＥ\\u3000プロストリートブレイクアウト\\u3000２０１７年', 'price': '228', 'all_price': '238.6', 'years': '2017年', 'mileage': '12606Km', 'vehicle inspection/insurance': '検無し', 'Repair history': 'なし', 'URL': 'https://www.goobike.com//maker-harley_davidson/car-cvo_fxse_prostreetbreakout/index.html'}\n",
            "put data::{'title': 'ＣＶＯ\\u3000ＦＸＳＥ\\u3000プロストリートブレイクアウト', 'price': '265', 'all_price': '272.7', 'years': '2017年', 'mileage': '3977Km', 'vehicle inspection/insurance': '検無し', 'Repair history': 'なし', 'URL': 'https://www.goobike.com//maker-harley_davidson/car-cvo_fxse_prostreetbreakout/index.html'}\n",
            "put data::{'title': 'ＣＶＯ\\u3000ＦＸＳＥ\\u3000プロストリートブレイクアウト\\u3000２０１７年モデル\\u3000ＥＴＣ', 'price': '258.8', 'all_price': '268.9', 'years': '2017年', 'mileage': '2750Km', 'vehicle inspection/insurance': '検2020/10', 'Repair history': 'なし', 'URL': 'https://www.goobike.com//maker-harley_davidson/car-cvo_fxse_prostreetbreakout/index.html'}\n",
            "put data::{'title': 'ＣＶＯ\\u3000ＦＸＳＥ\\u3000プロストリートブレイクアウト\\u3000２０１７年モデル', 'price': '254.8', 'all_price': '264.6', 'years': '2019年', 'mileage': '2363Km', 'vehicle inspection/insurance': '検2022/04', 'Repair history': 'なし', 'URL': 'https://www.goobike.com//maker-harley_davidson/car-cvo_fxse_prostreetbreakout/index.html'}\n",
            "put data::{'title': 'ＣＶＯ\\u3000ＦＸＳＥ\\u3000プロストリートブレイクアウト', 'price': '253', 'all_price': '264.5', 'years': '2016年', 'mileage': '7528Km', 'vehicle inspection/insurance': '検無し', 'Repair history': 'なし', 'URL': 'https://www.goobike.com//maker-harley_davidson/car-cvo_fxse_prostreetbreakout/index.html'}\n",
            "put data::{'title': 'ＣＶＯ\\u3000ＦＸＳＥ\\u3000プロストリートブレイクアウト', 'price': '260', 'all_price': '269.49', 'years': '2016年', 'mileage': '1896Km', 'vehicle inspection/insurance': '検無し', 'Repair history': 'なし', 'URL': 'https://www.goobike.com//maker-harley_davidson/car-cvo_fxse_prostreetbreakout/index.html'}\n",
            "put data::{'title': 'ＣＶＯ\\u3000ＦＸＳＥ\\u3000プロストリートブレイクアウト\\u3000ナビ\\u3000ＥＴＣ\\u3000サイドバッグ等', 'price': '245.9', 'all_price': '256.7', 'years': '2017年', 'mileage': '1150Km', 'vehicle inspection/insurance': '検無し', 'Repair history': 'なし', 'URL': 'https://www.goobike.com//maker-harley_davidson/car-cvo_fxse_prostreetbreakout/index.html'}\n",
            "put data::{'title': 'ＣＶＯ\\u3000ＦＸＳＥ\\u3000プロストリートブレイクアウト\\u3000パフォーマンスマシン製ホイール', 'price': '229.9', 'all_price': '233.7', 'years': '2016年', 'mileage': '1749Km', 'vehicle inspection/insurance': '検2021/09', 'Repair history': 'なし', 'URL': 'https://www.goobike.com//maker-harley_davidson/car-cvo_fxse_prostreetbreakout/index.html'}\n",
            "put data::{'title': 'ＣＶＯ\\u3000ＦＸＳＥ\\u3000プロストリートブレイクアウト\\u3000キーレス\\u3000ＡＢＳ', 'price': '291.5', 'all_price': '302.66', 'years': '2016年', 'mileage': '1587Km', 'vehicle inspection/insurance': '検無し', 'Repair history': 'なし', 'URL': 'https://www.goobike.com//maker-harley_davidson/car-cvo_fxse_prostreetbreakout/index.html'}\n"
          ],
          "name": "stdout"
        }
      ]
    },
    {
      "cell_type": "code",
      "metadata": {
        "id": "Pv2bJIP4P4by",
        "colab_type": "code",
        "colab": {}
      },
      "source": [
        "import csv\n",
        "with open(\"goobike.csv\", \"w\") as f:\n",
        "    writer = csv.writer(f, lineterminator='\\n')\n",
        "    writer.writerow(info[0].keys())\n",
        "    for i in info:\n",
        "        writer.writerow(i.values())"
      ],
      "execution_count": 0,
      "outputs": []
    },
    {
      "cell_type": "code",
      "metadata": {
        "id": "QWYD7k6FuSLY",
        "colab_type": "code",
        "colab": {
          "base_uri": "https://localhost:8080/",
          "height": 130
        },
        "outputId": "e8820e85-c545-40d5-de45-dd934d4d10be"
      },
      "source": [
        "from google.colab import drive\n",
        "drive.mount('/content/drive')"
      ],
      "execution_count": 102,
      "outputs": [
        {
          "output_type": "stream",
          "text": [
            "Go to this URL in a browser: https://accounts.google.com/o/oauth2/auth?client_id=947318989803-6bn6qk8qdgf4n4g3pfee6491hc0brc4i.apps.googleusercontent.com&redirect_uri=urn%3aietf%3awg%3aoauth%3a2.0%3aoob&response_type=code&scope=email%20https%3a%2f%2fwww.googleapis.com%2fauth%2fdocs.test%20https%3a%2f%2fwww.googleapis.com%2fauth%2fdrive%20https%3a%2f%2fwww.googleapis.com%2fauth%2fdrive.photos.readonly%20https%3a%2f%2fwww.googleapis.com%2fauth%2fpeopleapi.readonly\n",
            "\n",
            "Enter your authorization code:\n",
            "··········\n",
            "Mounted at /content/drive\n"
          ],
          "name": "stdout"
        }
      ]
    }
  ]
}