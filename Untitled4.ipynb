{
  "nbformat": 4,
  "nbformat_minor": 0,
  "metadata": {
    "colab": {
      "name": "Untitled4.ipynb",
      "provenance": [],
      "toc_visible": true,
      "include_colab_link": true
    },
    "kernelspec": {
      "name": "python3",
      "display_name": "Python 3"
    }
  },
  "cells": [
    {
      "cell_type": "markdown",
      "metadata": {
        "id": "view-in-github",
        "colab_type": "text"
      },
      "source": [
        "<a href=\"https://colab.research.google.com/github/you0229/scraping-goobike/blob/master/Untitled4.ipynb\" target=\"_parent\"><img src=\"https://colab.research.google.com/assets/colab-badge.svg\" alt=\"Open In Colab\"/></a>"
      ]
    },
    {
      "cell_type": "code",
      "metadata": {
        "id": "S_P5ovJcdW5Y",
        "colab_type": "code",
        "colab": {}
      },
      "source": [
        "#####\n",
        "# library\n",
        "#####\n",
        "import requests\n",
        "from bs4 import BeautifulSoup\n",
        "import json\n",
        "import re\n",
        "import time"
      ],
      "execution_count": 0,
      "outputs": []
    },
    {
      "cell_type": "code",
      "metadata": {
        "id": "6xyc99nsMg1A",
        "colab_type": "code",
        "colab": {}
      },
      "source": [
        "#####\n",
        "# cost\n",
        "#####\n",
        "brand = [\n",
        "         'maker-harley_davidson'\n",
        "]\n",
        "base_url = 'https://www.goobike.com'"
      ],
      "execution_count": 0,
      "outputs": []
    },
    {
      "cell_type": "code",
      "metadata": {
        "id": "ganP5SHFnsAX",
        "colab_type": "code",
        "colab": {}
      },
      "source": [
        "#####\n",
        "# Functions\n",
        "#####\n",
        "\n",
        "# Beautiful Soup\n",
        "def get_bs(url):\n",
        "    # スクレイピング対象の URL にリクエストを送り HTML を取得する\n",
        "    res = requests.get(url)\n",
        "    # print('res.encoding before start')\n",
        "    # print(res.encoding)\n",
        "    # print('res.encoding end')\n",
        "\n",
        "    # レスポンスの HTML から BeautifulSoup オブジェクトを作る\n",
        "    # res.encoding = res.apparent_encoding # なぜか文字コードを判定できなかったため直接指定\n",
        "    res.encoding = 'EUC-JP'\n",
        "    soup = BeautifulSoup(res.text.encode('utf-8'), 'html.parser')\n",
        "    # print('res.encoding after start')\n",
        "    # print(res.encoding)\n",
        "    # print('res.encoding end')\n",
        "    # print(res.text)\n",
        "\n",
        "    time.sleep(1)\n",
        "\n",
        "    return soup\n",
        "\n",
        "# htmlタグの削除\n",
        "def del_tag(tag, tag_name):\n",
        "  needle = '<'+tag_name+'>(.*?)</'+tag_name+'>'\n",
        "  return re.search(needle, str(tag)).group(1)\n",
        "\n",
        "# ページ数取得\n",
        "def get_page_num(soup):\n",
        "  # page_last = soup.find('li', attrs={'class': 'last'})\n",
        "  page_last = soup.find('div', attrs={'class': 'summary_lists'})\\\n",
        "  .find('div', attrs={'class': 'num_box clearfix'})\\\n",
        "  .find('div', attrs={'class': 'bxr'})\\\n",
        "  print(page_last)\n",
        "  if page_last.find('a') is None:\n",
        "    return 1\n",
        "\n",
        "  print(page_last.find('a').get('href'))\n",
        "  page_last_a_href = page_last.find('a').get('href')\n",
        "  needle = '/index(.*?)\\.html'\n",
        "  page_num = re.search(needle, str(page_last_a_href)).group(1)\n",
        "\n",
        "  return int(page_num)\n",
        "\n",
        "# 車種の一覧を取得\n",
        "def car_type_list():\n",
        "  for i in brand:\n",
        "    request_url = base_url + '/' + i + '/index.html'\n",
        "    print('request_url::' + request_url)\n",
        "\n",
        "    soup = get_bs(request_url)\n",
        "    # print(soup.html())\n",
        "\n",
        "    page_num = get_page_num(soup)\n",
        "    print('gage_num::' + str(page_num))\n",
        "\n",
        "    topics = []\n",
        "    for j in range(page_num):\n",
        "      if page_num > 1:\n",
        "        print('ページ数が 1 以上です')\n",
        "        request_url = base_url + '/' + i + '/index' + str(j) + '.html'\n",
        "        print('request_url::' + request_url)\n",
        "\n",
        "        soup = get_bs(request_url)\n",
        "        print(soup.html())\n",
        "\n",
        "      for t in soup.find_all('ul', attrs={'class': 'bike_lists'}):\n",
        "        topics.extend(t.find_all('a'))\n",
        "\n",
        "      print('topics::' + str(topics))\n",
        "\n",
        "    org_links = [topic['href'] for topic in topics]\n",
        "    print('org_links::' + str(org_links))\n",
        "\n",
        "    links = [url.replace('/map', '') for url in org_links]\n",
        "    print('links::' + json.dumps(links))\n",
        "\n",
        "    return links\n",
        "\n",
        "# 取得したい情報を取得\n",
        "def get_bike_info():\n",
        "    bike_info = b.find('div', attrs={'class': 'bike_info'})\n",
        "    clearfix_li = bike_info.find('div', attrs={'class': 'cont01'}).find('ul', attrs={'class': 'clearfix'}).find_all('li')\n",
        "    # print('bike_info' + str(bike_info))\n",
        "    # print('clearfix_li' + str(clearfix_li))\n",
        "\n",
        "    d = {\n",
        "        'title': bike_info.find('a', attrs={'class': 'detail_kakaku_link'}).text,\\\n",
        "        'price': bike_info.find('td', attrs={'class':'num_td'}).find('span', attrs={'class': 'num_ff'}).text,\\\n",
        "        'all_price': bike_info.find('span', attrs={'class': 'num_ff total'}).text,\\\n",
        "        'years': del_tag(clearfix_li[0].b, 'b'),\\\n",
        "        'mileage': del_tag(clearfix_li[1].b, 'b') if len(clearfix_li) > 1 else '',\\\n",
        "        'vehicle inspection/insurance': del_tag(clearfix_li[2].b, 'b') if len(clearfix_li) > 2 else '',\\\n",
        "        'Repair history': del_tag(clearfix_li[3].b, 'b') if len(clearfix_li) > 3 else '',\\\n",
        "        'URL' : base_url + bike_info.find('a', attrs={'class': 'detail_kakaku_link'}).get('href'),\\\n",
        "        'car_name': re.search('\\/car-(.*?)\\/', str(request_url)).group(1)\n",
        "        }\n",
        "    return d"
      ],
      "execution_count": 0,
      "outputs": []
    },
    {
      "cell_type": "code",
      "metadata": {
        "id": "-eJWiTngpszd",
        "colab_type": "code",
        "outputId": "542859ed-039c-4fe1-e989-731f5fa8a439",
        "colab": {
          "base_uri": "https://localhost:8080/",
          "height": 427
        }
      },
      "source": [
        "car_types = car_type_list()\n",
        "print('cat_types::' + json.dumps(car_types))\n",
        "\n",
        "info = []\n",
        "for j in car_types:\n",
        "  request_url = base_url + '/' + j\n",
        "  print('request_url::' + request_url)\n",
        "\n",
        "  soup = get_bs(request_url)\n",
        "  \n",
        "  bike_sec = soup.find('div', attrs={'class': 'summary_lists'}).find_all('div', attrs={'class': 'bike_sec'})\n",
        "\n",
        "  for b in bike_sec:\n",
        "    d = get_bike_info()\n",
        "    print('put data::' + str(d))\n",
        "\n",
        "    info.append(d.copy())\n",
        "\n",
        "    del d"
      ],
      "execution_count": 19,
      "outputs": [
        {
          "output_type": "stream",
          "text": [
            "request_url::https://www.goobike.com/maker-harley_davidson/index.html\n",
            "[]\n"
          ],
          "name": "stdout"
        },
        {
          "output_type": "error",
          "ename": "AttributeError",
          "evalue": "ignored",
          "traceback": [
            "\u001b[0;31m---------------------------------------------------------------------------\u001b[0m",
            "\u001b[0;31mAttributeError\u001b[0m                            Traceback (most recent call last)",
            "\u001b[0;32m<ipython-input-19-16d8479a12df>\u001b[0m in \u001b[0;36m<module>\u001b[0;34m()\u001b[0m\n\u001b[0;32m----> 1\u001b[0;31m \u001b[0mcar_types\u001b[0m \u001b[0;34m=\u001b[0m \u001b[0mcar_type_list\u001b[0m\u001b[0;34m(\u001b[0m\u001b[0;34m)\u001b[0m\u001b[0;34m\u001b[0m\u001b[0;34m\u001b[0m\u001b[0m\n\u001b[0m\u001b[1;32m      2\u001b[0m \u001b[0mprint\u001b[0m\u001b[0;34m(\u001b[0m\u001b[0;34m'cat_types::'\u001b[0m \u001b[0;34m+\u001b[0m \u001b[0mjson\u001b[0m\u001b[0;34m.\u001b[0m\u001b[0mdumps\u001b[0m\u001b[0;34m(\u001b[0m\u001b[0mcar_types\u001b[0m\u001b[0;34m)\u001b[0m\u001b[0;34m)\u001b[0m\u001b[0;34m\u001b[0m\u001b[0;34m\u001b[0m\u001b[0m\n\u001b[1;32m      3\u001b[0m \u001b[0;34m\u001b[0m\u001b[0m\n\u001b[1;32m      4\u001b[0m \u001b[0minfo\u001b[0m \u001b[0;34m=\u001b[0m \u001b[0;34m[\u001b[0m\u001b[0;34m]\u001b[0m\u001b[0;34m\u001b[0m\u001b[0;34m\u001b[0m\u001b[0m\n\u001b[1;32m      5\u001b[0m \u001b[0;32mfor\u001b[0m \u001b[0mj\u001b[0m \u001b[0;32min\u001b[0m \u001b[0mcar_types\u001b[0m\u001b[0;34m:\u001b[0m\u001b[0;34m\u001b[0m\u001b[0;34m\u001b[0m\u001b[0m\n",
            "\u001b[0;32m<ipython-input-18-4d50b4ecb680>\u001b[0m in \u001b[0;36mcar_type_list\u001b[0;34m()\u001b[0m\n\u001b[1;32m     53\u001b[0m     \u001b[0;31m# print(soup.html())\u001b[0m\u001b[0;34m\u001b[0m\u001b[0;34m\u001b[0m\u001b[0;34m\u001b[0m\u001b[0m\n\u001b[1;32m     54\u001b[0m \u001b[0;34m\u001b[0m\u001b[0m\n\u001b[0;32m---> 55\u001b[0;31m     \u001b[0mpage_num\u001b[0m \u001b[0;34m=\u001b[0m \u001b[0mget_page_num\u001b[0m\u001b[0;34m(\u001b[0m\u001b[0msoup\u001b[0m\u001b[0;34m)\u001b[0m\u001b[0;34m\u001b[0m\u001b[0;34m\u001b[0m\u001b[0m\n\u001b[0m\u001b[1;32m     56\u001b[0m     \u001b[0mprint\u001b[0m\u001b[0;34m(\u001b[0m\u001b[0;34m'gage_num::'\u001b[0m \u001b[0;34m+\u001b[0m \u001b[0mstr\u001b[0m\u001b[0;34m(\u001b[0m\u001b[0mpage_num\u001b[0m\u001b[0;34m)\u001b[0m\u001b[0;34m)\u001b[0m\u001b[0;34m\u001b[0m\u001b[0;34m\u001b[0m\u001b[0m\n\u001b[1;32m     57\u001b[0m \u001b[0;34m\u001b[0m\u001b[0m\n",
            "\u001b[0;32m<ipython-input-18-4d50b4ecb680>\u001b[0m in \u001b[0;36mget_page_num\u001b[0;34m(soup)\u001b[0m\n\u001b[1;32m     34\u001b[0m   \u001b[0mpage_last\u001b[0m \u001b[0;34m=\u001b[0m \u001b[0msoup\u001b[0m\u001b[0;34m.\u001b[0m\u001b[0mselect\u001b[0m\u001b[0;34m(\u001b[0m\u001b[0;34m'#contents > form > div.summary_lists > div:nth-child(1) > div.bxr > ul > li.last'\u001b[0m\u001b[0;34m)\u001b[0m\u001b[0;34m\u001b[0m\u001b[0;34m\u001b[0m\u001b[0m\n\u001b[1;32m     35\u001b[0m   \u001b[0mprint\u001b[0m\u001b[0;34m(\u001b[0m\u001b[0mpage_last\u001b[0m\u001b[0;34m)\u001b[0m\u001b[0;34m\u001b[0m\u001b[0;34m\u001b[0m\u001b[0m\n\u001b[0;32m---> 36\u001b[0;31m   \u001b[0;32mif\u001b[0m \u001b[0mpage_last\u001b[0m\u001b[0;34m.\u001b[0m\u001b[0mfind\u001b[0m\u001b[0;34m(\u001b[0m\u001b[0;34m'a'\u001b[0m\u001b[0;34m)\u001b[0m \u001b[0;32mis\u001b[0m \u001b[0;32mNone\u001b[0m\u001b[0;34m:\u001b[0m\u001b[0;34m\u001b[0m\u001b[0;34m\u001b[0m\u001b[0m\n\u001b[0m\u001b[1;32m     37\u001b[0m     \u001b[0;32mreturn\u001b[0m \u001b[0;36m1\u001b[0m\u001b[0;34m\u001b[0m\u001b[0;34m\u001b[0m\u001b[0m\n\u001b[1;32m     38\u001b[0m \u001b[0;34m\u001b[0m\u001b[0m\n",
            "\u001b[0;31mAttributeError\u001b[0m: 'list' object has no attribute 'find'"
          ]
        }
      ]
    },
    {
      "cell_type": "code",
      "metadata": {
        "id": "Pv2bJIP4P4by",
        "colab_type": "code",
        "colab": {}
      },
      "source": [
        "import csv\n",
        "with open(\"goobike.csv\", \"w\") as f:\n",
        "    writer = csv.writer(f, lineterminator='\\n')\n",
        "    writer.writerow(info[0].keys())\n",
        "    for i in info:\n",
        "        writer.writerow(i.values())"
      ],
      "execution_count": 0,
      "outputs": []
    },
    {
      "cell_type": "code",
      "metadata": {
        "id": "NTEXnt9poJgk",
        "colab_type": "code",
        "outputId": "5b289a22-0a91-4d71-acfc-22cf86bc586d",
        "colab": {
          "base_uri": "https://localhost:8080/",
          "height": 35
        }
      },
      "source": [
        "import shutil\n",
        "src = './goobike.csv'\n",
        "copy = '/content/drive/My Drive/Goobike/goobike.csv'\n",
        "shutil.copyfile(src,copy)"
      ],
      "execution_count": 0,
      "outputs": [
        {
          "output_type": "execute_result",
          "data": {
            "text/plain": [
              "'/content/drive/My Drive/Goobike/goobike.csv'"
            ]
          },
          "metadata": {
            "tags": []
          },
          "execution_count": 32
        }
      ]
    },
    {
      "cell_type": "code",
      "metadata": {
        "id": "QWYD7k6FuSLY",
        "colab_type": "code",
        "outputId": "1ae925a7-2e08-410c-daf7-b1b2f06e4c67",
        "colab": {
          "base_uri": "https://localhost:8080/",
          "height": 126
        }
      },
      "source": [
        "from google.colab import drive\n",
        "drive.mount('/content/drive')"
      ],
      "execution_count": 0,
      "outputs": [
        {
          "output_type": "stream",
          "text": [
            "Go to this URL in a browser: https://accounts.google.com/o/oauth2/auth?client_id=947318989803-6bn6qk8qdgf4n4g3pfee6491hc0brc4i.apps.googleusercontent.com&redirect_uri=urn%3aietf%3awg%3aoauth%3a2.0%3aoob&response_type=code&scope=email%20https%3a%2f%2fwww.googleapis.com%2fauth%2fdocs.test%20https%3a%2f%2fwww.googleapis.com%2fauth%2fdrive%20https%3a%2f%2fwww.googleapis.com%2fauth%2fdrive.photos.readonly%20https%3a%2f%2fwww.googleapis.com%2fauth%2fpeopleapi.readonly\n",
            "\n",
            "Enter your authorization code:\n",
            "··········\n",
            "Mounted at /content/drive\n"
          ],
          "name": "stdout"
        }
      ]
    }
  ]
}