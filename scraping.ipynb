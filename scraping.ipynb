{
  "nbformat": 4,
  "nbformat_minor": 0,
  "metadata": {
    "colab": {
      "name": "Untitled4.ipynb",
      "provenance": [],
      "authorship_tag": "ABX9TyOFp5GLLuaBBJ4IcfG77c2K",
      "include_colab_link": true
    },
    "kernelspec": {
      "name": "python3",
      "display_name": "Python 3"
    }
  },
  "cells": [
    {
      "cell_type": "markdown",
      "metadata": {
        "id": "view-in-github",
        "colab_type": "text"
      },
      "source": [
        "<a href=\"https://colab.research.google.com/github/you0229/scraping-goobike/blob/master/scraping.ipynb\" target=\"_parent\"><img src=\"https://colab.research.google.com/assets/colab-badge.svg\" alt=\"Open In Colab\"/></a>"
      ]
    },
    {
      "cell_type": "code",
      "metadata": {
        "id": "S_P5ovJcdW5Y",
        "colab_type": "code",
        "colab": {}
      },
      "source": [
        "#####\n",
        "# library\n",
        "#####\n",
        "import requests\n",
        "from bs4 import BeautifulSoup"
      ],
      "execution_count": 0,
      "outputs": []
    },
    {
      "cell_type": "code",
      "metadata": {
        "id": "6xyc99nsMg1A",
        "colab_type": "code",
        "colab": {}
      },
      "source": [
        "#####\n",
        "# cost\n",
        "#####\n",
        "brand = [\n",
        "         'maker-harley_davidson'\n",
        "]\n",
        "car_types = []\n",
        "url = 'https://www.goobike.com/'"
      ],
      "execution_count": 0,
      "outputs": []
    },
    {
      "cell_type": "code",
      "metadata": {
        "id": "ganP5SHFnsAX",
        "colab_type": "code",
        "colab": {}
      },
      "source": [
        "#####\n",
        "# Beautiful Soup\n",
        "#####\n",
        "def get_bs(url):\n",
        "    # スクレイピング対象の URL にリクエストを送り HTML を取得する\n",
        "  res = requests.get(request_url)\n",
        "\n",
        "  # レスポンスの HTML から BeautifulSoup オブジェクトを作る\n",
        "  soup = BeautifulSoup(res.text, 'html.parser')\n",
        "\n",
        "  return soup"
      ],
      "execution_count": 0,
      "outputs": []
    },
    {
      "cell_type": "code",
      "metadata": {
        "id": "BcFALQ8XZ1d5",
        "colab_type": "code",
        "colab": {}
      },
      "source": [
        "#####\n",
        "# 車種を取得\n",
        "#####\n",
        "for i in brand:\n",
        "  request_url = url + i\n",
        "\n",
        "  soup = get_bs(request_url)\n",
        "  \n",
        "  # ページに含まれるリンクを全て取得する\n",
        "  links = [url.get('href') for url in soup.find_all('.bike_lists li a')]\n",
        "  car_types = links\n",
        "  print(car_types)"
      ],
      "execution_count": 0,
      "outputs": []
    },
    {
      "cell_type": "code",
      "metadata": {
        "id": "-eJWiTngpszd",
        "colab_type": "code",
        "colab": {}
      },
      "source": [
        "for j in car_types:\n",
        "  request_url = j\n",
        "\n",
        "  soup = get_bs(request_url)\n",
        "\n",
        "  soup.find_all('.bike_sec')"
      ],
      "execution_count": 0,
      "outputs": []
    }
  ]
}